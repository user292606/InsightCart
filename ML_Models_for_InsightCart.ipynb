{
  "nbformat": 4,
  "nbformat_minor": 0,
  "metadata": {
    "colab": {
      "provenance": [],
      "authorship_tag": "ABX9TyMuYi4uhGh4K7gePAmEJwQv",
      "include_colab_link": true
    },
    "kernelspec": {
      "name": "python3",
      "display_name": "Python 3"
    },
    "language_info": {
      "name": "python"
    }
  },
  "cells": [
    {
      "cell_type": "markdown",
      "metadata": {
        "id": "view-in-github",
        "colab_type": "text"
      },
      "source": [
        "<a href=\"https://colab.research.google.com/github/user292606/InsightCart/blob/main/ML_Models_for_InsightCart.ipynb\" target=\"_parent\"><img src=\"https://colab.research.google.com/assets/colab-badge.svg\" alt=\"Open In Colab\"/></a>"
      ]
    },
    {
      "cell_type": "markdown",
      "source": [
        "# Product-based Capstone Project"
      ],
      "metadata": {
        "id": "f6A0Kwmb-5_q"
      }
    },
    {
      "cell_type": "markdown",
      "source": [
        "# Team (C241-PS449) | InsightCart"
      ],
      "metadata": {
        "id": "Rd8wUAw8_AJU"
      }
    },
    {
      "cell_type": "markdown",
      "source": [
        "## Install Packages and Libraries"
      ],
      "metadata": {
        "id": "g6i-66oW_Vxh"
      }
    },
    {
      "cell_type": "code",
      "execution_count": 61,
      "metadata": {
        "id": "0h8YLyD8-U7F"
      },
      "outputs": [],
      "source": [
        "import pandas as pd\n",
        "import numpy as np\n",
        "import matplotlib.pyplot as plt\n",
        "import seaborn as sns\n",
        "import os\n",
        "import requests\n",
        "import zipfile\n",
        "import warnings\n",
        "import math\n",
        "from scipy.stats import variation\n",
        "%matplotlib inline\n",
        "warnings.filterwarnings('ignore')\n",
        "sns.set_style(\"darkgrid\")\n",
        "import sklearn\n",
        "from sklearn.metrics import mean_absolute_error, mean_squared_error\n",
        "from sklearn.metrics import mean_squared_error\n",
        "from sklearn.model_selection import train_test_split\n",
        "from sklearn.preprocessing import StandardScaler\n",
        "import tensorflow as tf\n",
        "from statsmodels.tsa.arima.model import ARIMA\n",
        "from sklearn.model_selection import TimeSeriesSplit"
      ]
    },
    {
      "cell_type": "markdown",
      "source": [
        "## Gathering Data"
      ],
      "metadata": {
        "id": "mXT9Tgxq_b9F"
      }
    },
    {
      "cell_type": "code",
      "source": [
        "zip_file_path = \"/content/archive.zip\"\n",
        "extracted_dir_path = \"/content/archive\"\n",
        "os.makedirs(extracted_dir_path, exist_ok=True)\n",
        "\n",
        "# Extract the zip file\n",
        "with zipfile.ZipFile(zip_file_path, 'r') as zip_ref:\n",
        "    zip_ref.extractall(extracted_dir_path)\n",
        "\n",
        "# List the extracted files\n",
        "extracted_files = os.listdir(extracted_dir_path)\n",
        "print(\"Extracted files:\", extracted_files)"
      ],
      "metadata": {
        "colab": {
          "base_uri": "https://localhost:8080/"
        },
        "id": "JGV6kcCa-0xl",
        "outputId": "beb8dc3c-654a-492e-804a-f2eefb234bd6"
      },
      "execution_count": 62,
      "outputs": [
        {
          "output_type": "stream",
          "name": "stdout",
          "text": [
            "Extracted files: ['staff.csv', 'sales_outlet.csv', 'generations.csv', 'Dates.csv', 'pastry inventory.csv', 'product.csv', '201904 sales reciepts.csv', 'sales targets.csv', 'customer.csv']\n"
          ]
        }
      ]
    },
    {
      "cell_type": "code",
      "source": [
        "# Show the 201904 sales reciepts data specifically\n",
        "file_path = os.path.join(extracted_dir_path, \"201904 sales reciepts.csv\")\n",
        "sr_df = pd.read_csv(file_path).drop(['transaction_id', 'line_item_id', 'customer_id', 'staff_id', 'line_item_amount'], axis=1)\n",
        "print(sr_df.head())"
      ],
      "metadata": {
        "colab": {
          "base_uri": "https://localhost:8080/"
        },
        "id": "HKPlgK0__B0T",
        "outputId": "4648f2e2-b06a-43ec-ecd5-86fce2e517e5"
      },
      "execution_count": 64,
      "outputs": [
        {
          "output_type": "stream",
          "name": "stdout",
          "text": [
            "  transaction_date transaction_time  sales_outlet_id instore_yn  order  \\\n",
            "0       2019-04-01         12:04:43                3          N      1   \n",
            "1       2019-04-01         15:54:39                3          N      1   \n",
            "2       2019-04-01         14:34:59                3          Y      1   \n",
            "3       2019-04-01         16:06:04                3          N      1   \n",
            "4       2019-04-01         19:18:37                3          Y      1   \n",
            "\n",
            "   product_id  quantity  unit_price promo_item_yn  \n",
            "0          52         1        2.50             N  \n",
            "1          27         2        3.50             N  \n",
            "2          46         2        2.50             N  \n",
            "3          23         2        2.50             N  \n",
            "4          34         1        2.45             N  \n"
          ]
        }
      ]
    },
    {
      "cell_type": "markdown",
      "source": [
        "## Assessing Data"
      ],
      "metadata": {
        "id": "FLlRxjOO_ekz"
      }
    },
    {
      "cell_type": "code",
      "source": [
        "# Show the Information of the Data\n",
        "sr_df.info()"
      ],
      "metadata": {
        "colab": {
          "base_uri": "https://localhost:8080/"
        },
        "id": "VfwQM1RD_N60",
        "outputId": "fc8e1bc4-2ae4-4d9b-d03c-34a323f0475b"
      },
      "execution_count": 65,
      "outputs": [
        {
          "output_type": "stream",
          "name": "stdout",
          "text": [
            "<class 'pandas.core.frame.DataFrame'>\n",
            "RangeIndex: 49894 entries, 0 to 49893\n",
            "Data columns (total 9 columns):\n",
            " #   Column            Non-Null Count  Dtype  \n",
            "---  ------            --------------  -----  \n",
            " 0   transaction_date  49894 non-null  object \n",
            " 1   transaction_time  49894 non-null  object \n",
            " 2   sales_outlet_id   49894 non-null  int64  \n",
            " 3   instore_yn        49894 non-null  object \n",
            " 4   order             49894 non-null  int64  \n",
            " 5   product_id        49894 non-null  int64  \n",
            " 6   quantity          49894 non-null  int64  \n",
            " 7   unit_price        49894 non-null  float64\n",
            " 8   promo_item_yn     49894 non-null  object \n",
            "dtypes: float64(1), int64(4), object(4)\n",
            "memory usage: 3.4+ MB\n"
          ]
        }
      ]
    },
    {
      "cell_type": "code",
      "source": [
        "#Make the data type for transaction date into date time\n",
        "sr_df[\"transaction_date\"] = sr_df[\"transaction_date\"].apply(pd.to_datetime)"
      ],
      "metadata": {
        "id": "fu6xggVR_SNT"
      },
      "execution_count": 66,
      "outputs": []
    },
    {
      "cell_type": "code",
      "source": [
        "# Checking the information of the data\n",
        "sr_df.info()"
      ],
      "metadata": {
        "colab": {
          "base_uri": "https://localhost:8080/"
        },
        "id": "AN5LU5M6_jmE",
        "outputId": "ac8bbcbd-9723-444a-a928-4ef16f5f31cd"
      },
      "execution_count": 67,
      "outputs": [
        {
          "output_type": "stream",
          "name": "stdout",
          "text": [
            "<class 'pandas.core.frame.DataFrame'>\n",
            "RangeIndex: 49894 entries, 0 to 49893\n",
            "Data columns (total 9 columns):\n",
            " #   Column            Non-Null Count  Dtype         \n",
            "---  ------            --------------  -----         \n",
            " 0   transaction_date  49894 non-null  datetime64[ns]\n",
            " 1   transaction_time  49894 non-null  object        \n",
            " 2   sales_outlet_id   49894 non-null  int64         \n",
            " 3   instore_yn        49894 non-null  object        \n",
            " 4   order             49894 non-null  int64         \n",
            " 5   product_id        49894 non-null  int64         \n",
            " 6   quantity          49894 non-null  int64         \n",
            " 7   unit_price        49894 non-null  float64       \n",
            " 8   promo_item_yn     49894 non-null  object        \n",
            "dtypes: datetime64[ns](1), float64(1), int64(4), object(3)\n",
            "memory usage: 3.4+ MB\n"
          ]
        }
      ]
    },
    {
      "cell_type": "code",
      "source": [
        "# Assessing the Data Duplicates\n",
        "print(\"The amount of data duplicates on sales receipt data is : \", sr_df.duplicated().sum())"
      ],
      "metadata": {
        "colab": {
          "base_uri": "https://localhost:8080/"
        },
        "id": "1AVlzxab_myU",
        "outputId": "2b0adaa4-d499-4fc6-8328-3b668b601445"
      },
      "execution_count": 68,
      "outputs": [
        {
          "output_type": "stream",
          "name": "stdout",
          "text": [
            "The amount of data duplicates on sales receipt data is :  81\n"
          ]
        }
      ]
    },
    {
      "cell_type": "code",
      "source": [
        "# Find columns with duplicated data\n",
        "columns_with_duplicates = []\n",
        "for column in sr_df.columns:\n",
        "    if sr_df[column].duplicated().any():\n",
        "        columns_with_duplicates.append(column)\n",
        "\n",
        "print(columns_with_duplicates)"
      ],
      "metadata": {
        "colab": {
          "base_uri": "https://localhost:8080/"
        },
        "id": "EEISRXFP_pVo",
        "outputId": "3c96b6ed-d878-4419-a197-71af9e2dc1af"
      },
      "execution_count": 69,
      "outputs": [
        {
          "output_type": "stream",
          "name": "stdout",
          "text": [
            "['transaction_date', 'transaction_time', 'sales_outlet_id', 'instore_yn', 'order', 'product_id', 'quantity', 'unit_price', 'promo_item_yn']\n"
          ]
        }
      ]
    },
    {
      "cell_type": "code",
      "source": [
        "# Checking the Parameter (Descriptive Statistics)\n",
        "sr_df.describe()"
      ],
      "metadata": {
        "colab": {
          "base_uri": "https://localhost:8080/",
          "height": 300
        },
        "id": "-xygkoKQ_s_k",
        "outputId": "31e73778-0810-48c8-ace7-8ec11a7222a7"
      },
      "execution_count": 70,
      "outputs": [
        {
          "output_type": "execute_result",
          "data": {
            "text/plain": [
              "                    transaction_date  sales_outlet_id         order  \\\n",
              "count                          49894     49894.000000  49894.000000   \n",
              "mean   2019-04-15 01:16:35.855213312         5.351846      1.173428   \n",
              "min              2019-04-01 00:00:00         3.000000      1.000000   \n",
              "25%              2019-04-08 00:00:00         3.000000      1.000000   \n",
              "50%              2019-04-15 00:00:00         5.000000      1.000000   \n",
              "75%              2019-04-22 00:00:00         8.000000      1.000000   \n",
              "max              2019-04-29 00:00:00         8.000000      9.000000   \n",
              "std                              NaN         2.074796      1.025445   \n",
              "\n",
              "         product_id      quantity    unit_price  \n",
              "count  49894.000000  49894.000000  49894.000000  \n",
              "mean      47.878983      1.438209      3.384645  \n",
              "min        1.000000      1.000000      0.800000  \n",
              "25%       33.000000      1.000000      2.500000  \n",
              "50%       47.000000      1.000000      3.000000  \n",
              "75%       60.000000      2.000000      3.750000  \n",
              "max       87.000000      8.000000     45.000000  \n",
              "std       17.928355      0.543039      2.682545  "
            ],
            "text/html": [
              "\n",
              "  <div id=\"df-950bd758-b976-4a33-9991-44c03941ca05\" class=\"colab-df-container\">\n",
              "    <div>\n",
              "<style scoped>\n",
              "    .dataframe tbody tr th:only-of-type {\n",
              "        vertical-align: middle;\n",
              "    }\n",
              "\n",
              "    .dataframe tbody tr th {\n",
              "        vertical-align: top;\n",
              "    }\n",
              "\n",
              "    .dataframe thead th {\n",
              "        text-align: right;\n",
              "    }\n",
              "</style>\n",
              "<table border=\"1\" class=\"dataframe\">\n",
              "  <thead>\n",
              "    <tr style=\"text-align: right;\">\n",
              "      <th></th>\n",
              "      <th>transaction_date</th>\n",
              "      <th>sales_outlet_id</th>\n",
              "      <th>order</th>\n",
              "      <th>product_id</th>\n",
              "      <th>quantity</th>\n",
              "      <th>unit_price</th>\n",
              "    </tr>\n",
              "  </thead>\n",
              "  <tbody>\n",
              "    <tr>\n",
              "      <th>count</th>\n",
              "      <td>49894</td>\n",
              "      <td>49894.000000</td>\n",
              "      <td>49894.000000</td>\n",
              "      <td>49894.000000</td>\n",
              "      <td>49894.000000</td>\n",
              "      <td>49894.000000</td>\n",
              "    </tr>\n",
              "    <tr>\n",
              "      <th>mean</th>\n",
              "      <td>2019-04-15 01:16:35.855213312</td>\n",
              "      <td>5.351846</td>\n",
              "      <td>1.173428</td>\n",
              "      <td>47.878983</td>\n",
              "      <td>1.438209</td>\n",
              "      <td>3.384645</td>\n",
              "    </tr>\n",
              "    <tr>\n",
              "      <th>min</th>\n",
              "      <td>2019-04-01 00:00:00</td>\n",
              "      <td>3.000000</td>\n",
              "      <td>1.000000</td>\n",
              "      <td>1.000000</td>\n",
              "      <td>1.000000</td>\n",
              "      <td>0.800000</td>\n",
              "    </tr>\n",
              "    <tr>\n",
              "      <th>25%</th>\n",
              "      <td>2019-04-08 00:00:00</td>\n",
              "      <td>3.000000</td>\n",
              "      <td>1.000000</td>\n",
              "      <td>33.000000</td>\n",
              "      <td>1.000000</td>\n",
              "      <td>2.500000</td>\n",
              "    </tr>\n",
              "    <tr>\n",
              "      <th>50%</th>\n",
              "      <td>2019-04-15 00:00:00</td>\n",
              "      <td>5.000000</td>\n",
              "      <td>1.000000</td>\n",
              "      <td>47.000000</td>\n",
              "      <td>1.000000</td>\n",
              "      <td>3.000000</td>\n",
              "    </tr>\n",
              "    <tr>\n",
              "      <th>75%</th>\n",
              "      <td>2019-04-22 00:00:00</td>\n",
              "      <td>8.000000</td>\n",
              "      <td>1.000000</td>\n",
              "      <td>60.000000</td>\n",
              "      <td>2.000000</td>\n",
              "      <td>3.750000</td>\n",
              "    </tr>\n",
              "    <tr>\n",
              "      <th>max</th>\n",
              "      <td>2019-04-29 00:00:00</td>\n",
              "      <td>8.000000</td>\n",
              "      <td>9.000000</td>\n",
              "      <td>87.000000</td>\n",
              "      <td>8.000000</td>\n",
              "      <td>45.000000</td>\n",
              "    </tr>\n",
              "    <tr>\n",
              "      <th>std</th>\n",
              "      <td>NaN</td>\n",
              "      <td>2.074796</td>\n",
              "      <td>1.025445</td>\n",
              "      <td>17.928355</td>\n",
              "      <td>0.543039</td>\n",
              "      <td>2.682545</td>\n",
              "    </tr>\n",
              "  </tbody>\n",
              "</table>\n",
              "</div>\n",
              "    <div class=\"colab-df-buttons\">\n",
              "\n",
              "  <div class=\"colab-df-container\">\n",
              "    <button class=\"colab-df-convert\" onclick=\"convertToInteractive('df-950bd758-b976-4a33-9991-44c03941ca05')\"\n",
              "            title=\"Convert this dataframe to an interactive table.\"\n",
              "            style=\"display:none;\">\n",
              "\n",
              "  <svg xmlns=\"http://www.w3.org/2000/svg\" height=\"24px\" viewBox=\"0 -960 960 960\">\n",
              "    <path d=\"M120-120v-720h720v720H120Zm60-500h600v-160H180v160Zm220 220h160v-160H400v160Zm0 220h160v-160H400v160ZM180-400h160v-160H180v160Zm440 0h160v-160H620v160ZM180-180h160v-160H180v160Zm440 0h160v-160H620v160Z\"/>\n",
              "  </svg>\n",
              "    </button>\n",
              "\n",
              "  <style>\n",
              "    .colab-df-container {\n",
              "      display:flex;\n",
              "      gap: 12px;\n",
              "    }\n",
              "\n",
              "    .colab-df-convert {\n",
              "      background-color: #E8F0FE;\n",
              "      border: none;\n",
              "      border-radius: 50%;\n",
              "      cursor: pointer;\n",
              "      display: none;\n",
              "      fill: #1967D2;\n",
              "      height: 32px;\n",
              "      padding: 0 0 0 0;\n",
              "      width: 32px;\n",
              "    }\n",
              "\n",
              "    .colab-df-convert:hover {\n",
              "      background-color: #E2EBFA;\n",
              "      box-shadow: 0px 1px 2px rgba(60, 64, 67, 0.3), 0px 1px 3px 1px rgba(60, 64, 67, 0.15);\n",
              "      fill: #174EA6;\n",
              "    }\n",
              "\n",
              "    .colab-df-buttons div {\n",
              "      margin-bottom: 4px;\n",
              "    }\n",
              "\n",
              "    [theme=dark] .colab-df-convert {\n",
              "      background-color: #3B4455;\n",
              "      fill: #D2E3FC;\n",
              "    }\n",
              "\n",
              "    [theme=dark] .colab-df-convert:hover {\n",
              "      background-color: #434B5C;\n",
              "      box-shadow: 0px 1px 3px 1px rgba(0, 0, 0, 0.15);\n",
              "      filter: drop-shadow(0px 1px 2px rgba(0, 0, 0, 0.3));\n",
              "      fill: #FFFFFF;\n",
              "    }\n",
              "  </style>\n",
              "\n",
              "    <script>\n",
              "      const buttonEl =\n",
              "        document.querySelector('#df-950bd758-b976-4a33-9991-44c03941ca05 button.colab-df-convert');\n",
              "      buttonEl.style.display =\n",
              "        google.colab.kernel.accessAllowed ? 'block' : 'none';\n",
              "\n",
              "      async function convertToInteractive(key) {\n",
              "        const element = document.querySelector('#df-950bd758-b976-4a33-9991-44c03941ca05');\n",
              "        const dataTable =\n",
              "          await google.colab.kernel.invokeFunction('convertToInteractive',\n",
              "                                                    [key], {});\n",
              "        if (!dataTable) return;\n",
              "\n",
              "        const docLinkHtml = 'Like what you see? Visit the ' +\n",
              "          '<a target=\"_blank\" href=https://colab.research.google.com/notebooks/data_table.ipynb>data table notebook</a>'\n",
              "          + ' to learn more about interactive tables.';\n",
              "        element.innerHTML = '';\n",
              "        dataTable['output_type'] = 'display_data';\n",
              "        await google.colab.output.renderOutput(dataTable, element);\n",
              "        const docLink = document.createElement('div');\n",
              "        docLink.innerHTML = docLinkHtml;\n",
              "        element.appendChild(docLink);\n",
              "      }\n",
              "    </script>\n",
              "  </div>\n",
              "\n",
              "\n",
              "<div id=\"df-24136611-eb0d-4950-bd3b-89529f210c66\">\n",
              "  <button class=\"colab-df-quickchart\" onclick=\"quickchart('df-24136611-eb0d-4950-bd3b-89529f210c66')\"\n",
              "            title=\"Suggest charts\"\n",
              "            style=\"display:none;\">\n",
              "\n",
              "<svg xmlns=\"http://www.w3.org/2000/svg\" height=\"24px\"viewBox=\"0 0 24 24\"\n",
              "     width=\"24px\">\n",
              "    <g>\n",
              "        <path d=\"M19 3H5c-1.1 0-2 .9-2 2v14c0 1.1.9 2 2 2h14c1.1 0 2-.9 2-2V5c0-1.1-.9-2-2-2zM9 17H7v-7h2v7zm4 0h-2V7h2v10zm4 0h-2v-4h2v4z\"/>\n",
              "    </g>\n",
              "</svg>\n",
              "  </button>\n",
              "\n",
              "<style>\n",
              "  .colab-df-quickchart {\n",
              "      --bg-color: #E8F0FE;\n",
              "      --fill-color: #1967D2;\n",
              "      --hover-bg-color: #E2EBFA;\n",
              "      --hover-fill-color: #174EA6;\n",
              "      --disabled-fill-color: #AAA;\n",
              "      --disabled-bg-color: #DDD;\n",
              "  }\n",
              "\n",
              "  [theme=dark] .colab-df-quickchart {\n",
              "      --bg-color: #3B4455;\n",
              "      --fill-color: #D2E3FC;\n",
              "      --hover-bg-color: #434B5C;\n",
              "      --hover-fill-color: #FFFFFF;\n",
              "      --disabled-bg-color: #3B4455;\n",
              "      --disabled-fill-color: #666;\n",
              "  }\n",
              "\n",
              "  .colab-df-quickchart {\n",
              "    background-color: var(--bg-color);\n",
              "    border: none;\n",
              "    border-radius: 50%;\n",
              "    cursor: pointer;\n",
              "    display: none;\n",
              "    fill: var(--fill-color);\n",
              "    height: 32px;\n",
              "    padding: 0;\n",
              "    width: 32px;\n",
              "  }\n",
              "\n",
              "  .colab-df-quickchart:hover {\n",
              "    background-color: var(--hover-bg-color);\n",
              "    box-shadow: 0 1px 2px rgba(60, 64, 67, 0.3), 0 1px 3px 1px rgba(60, 64, 67, 0.15);\n",
              "    fill: var(--button-hover-fill-color);\n",
              "  }\n",
              "\n",
              "  .colab-df-quickchart-complete:disabled,\n",
              "  .colab-df-quickchart-complete:disabled:hover {\n",
              "    background-color: var(--disabled-bg-color);\n",
              "    fill: var(--disabled-fill-color);\n",
              "    box-shadow: none;\n",
              "  }\n",
              "\n",
              "  .colab-df-spinner {\n",
              "    border: 2px solid var(--fill-color);\n",
              "    border-color: transparent;\n",
              "    border-bottom-color: var(--fill-color);\n",
              "    animation:\n",
              "      spin 1s steps(1) infinite;\n",
              "  }\n",
              "\n",
              "  @keyframes spin {\n",
              "    0% {\n",
              "      border-color: transparent;\n",
              "      border-bottom-color: var(--fill-color);\n",
              "      border-left-color: var(--fill-color);\n",
              "    }\n",
              "    20% {\n",
              "      border-color: transparent;\n",
              "      border-left-color: var(--fill-color);\n",
              "      border-top-color: var(--fill-color);\n",
              "    }\n",
              "    30% {\n",
              "      border-color: transparent;\n",
              "      border-left-color: var(--fill-color);\n",
              "      border-top-color: var(--fill-color);\n",
              "      border-right-color: var(--fill-color);\n",
              "    }\n",
              "    40% {\n",
              "      border-color: transparent;\n",
              "      border-right-color: var(--fill-color);\n",
              "      border-top-color: var(--fill-color);\n",
              "    }\n",
              "    60% {\n",
              "      border-color: transparent;\n",
              "      border-right-color: var(--fill-color);\n",
              "    }\n",
              "    80% {\n",
              "      border-color: transparent;\n",
              "      border-right-color: var(--fill-color);\n",
              "      border-bottom-color: var(--fill-color);\n",
              "    }\n",
              "    90% {\n",
              "      border-color: transparent;\n",
              "      border-bottom-color: var(--fill-color);\n",
              "    }\n",
              "  }\n",
              "</style>\n",
              "\n",
              "  <script>\n",
              "    async function quickchart(key) {\n",
              "      const quickchartButtonEl =\n",
              "        document.querySelector('#' + key + ' button');\n",
              "      quickchartButtonEl.disabled = true;  // To prevent multiple clicks.\n",
              "      quickchartButtonEl.classList.add('colab-df-spinner');\n",
              "      try {\n",
              "        const charts = await google.colab.kernel.invokeFunction(\n",
              "            'suggestCharts', [key], {});\n",
              "      } catch (error) {\n",
              "        console.error('Error during call to suggestCharts:', error);\n",
              "      }\n",
              "      quickchartButtonEl.classList.remove('colab-df-spinner');\n",
              "      quickchartButtonEl.classList.add('colab-df-quickchart-complete');\n",
              "    }\n",
              "    (() => {\n",
              "      let quickchartButtonEl =\n",
              "        document.querySelector('#df-24136611-eb0d-4950-bd3b-89529f210c66 button');\n",
              "      quickchartButtonEl.style.display =\n",
              "        google.colab.kernel.accessAllowed ? 'block' : 'none';\n",
              "    })();\n",
              "  </script>\n",
              "</div>\n",
              "\n",
              "    </div>\n",
              "  </div>\n"
            ],
            "application/vnd.google.colaboratory.intrinsic+json": {
              "type": "dataframe",
              "summary": "{\n  \"name\": \"sr_df\",\n  \"rows\": 8,\n  \"fields\": [\n    {\n      \"column\": \"transaction_date\",\n      \"properties\": {\n        \"dtype\": \"date\",\n        \"min\": \"1970-01-01 00:00:00.000049894\",\n        \"max\": \"2019-04-29 00:00:00\",\n        \"num_unique_values\": 7,\n        \"samples\": [\n          \"49894\",\n          \"2019-04-15 01:16:35.855213312\",\n          \"2019-04-22 00:00:00\"\n        ],\n        \"semantic_type\": \"\",\n        \"description\": \"\"\n      }\n    },\n    {\n      \"column\": \"sales_outlet_id\",\n      \"properties\": {\n        \"dtype\": \"number\",\n        \"std\": 17638.45420250821,\n        \"min\": 2.074796165207502,\n        \"max\": 49894.0,\n        \"num_unique_values\": 6,\n        \"samples\": [\n          49894.0,\n          5.351845913336273,\n          2.074796165207502\n        ],\n        \"semantic_type\": \"\",\n        \"description\": \"\"\n      }\n    },\n    {\n      \"column\": \"order\",\n      \"properties\": {\n        \"dtype\": \"number\",\n        \"std\": 17639.42543167718,\n        \"min\": 1.0,\n        \"max\": 49894.0,\n        \"num_unique_values\": 5,\n        \"samples\": [\n          1.173427666653305,\n          1.0254447313085633,\n          1.0\n        ],\n        \"semantic_type\": \"\",\n        \"description\": \"\"\n      }\n    },\n    {\n      \"column\": \"product_id\",\n      \"properties\": {\n        \"dtype\": \"number\",\n        \"std\": 17625.372608589387,\n        \"min\": 1.0,\n        \"max\": 49894.0,\n        \"num_unique_values\": 8,\n        \"samples\": [\n          47.87898344490319,\n          60.0,\n          49894.0\n        ],\n        \"semantic_type\": \"\",\n        \"description\": \"\"\n      }\n    },\n    {\n      \"column\": \"quantity\",\n      \"properties\": {\n        \"dtype\": \"number\",\n        \"std\": 17639.436370228337,\n        \"min\": 0.5430387039088045,\n        \"max\": 49894.0,\n        \"num_unique_values\": 6,\n        \"samples\": [\n          49894.0,\n          1.4382090030865435,\n          0.5430387039088045\n        ],\n        \"semantic_type\": \"\",\n        \"description\": \"\"\n      }\n    },\n    {\n      \"column\": \"unit_price\",\n      \"properties\": {\n        \"dtype\": \"number\",\n        \"std\": 17637.112222806278,\n        \"min\": 0.8,\n        \"max\": 49894.0,\n        \"num_unique_values\": 8,\n        \"samples\": [\n          3.384645448350503,\n          3.75,\n          49894.0\n        ],\n        \"semantic_type\": \"\",\n        \"description\": \"\"\n      }\n    }\n  ]\n}"
            }
          },
          "metadata": {},
          "execution_count": 70
        }
      ]
    },
    {
      "cell_type": "code",
      "source": [
        "#Checking on The Missing Value\n",
        "sr_df.isnull().sum()"
      ],
      "metadata": {
        "colab": {
          "base_uri": "https://localhost:8080/"
        },
        "id": "nx-J-e8M_vZ_",
        "outputId": "af58cdbb-febc-4bca-ba0e-a5469095d246"
      },
      "execution_count": 71,
      "outputs": [
        {
          "output_type": "execute_result",
          "data": {
            "text/plain": [
              "transaction_date    0\n",
              "transaction_time    0\n",
              "sales_outlet_id     0\n",
              "instore_yn          0\n",
              "order               0\n",
              "product_id          0\n",
              "quantity            0\n",
              "unit_price          0\n",
              "promo_item_yn       0\n",
              "dtype: int64"
            ]
          },
          "metadata": {},
          "execution_count": 71
        }
      ]
    },
    {
      "cell_type": "code",
      "source": [
        "# Separating the Category and Numeric Variables\n",
        "columns = sr_df.columns\n",
        "numeric = []\n",
        "category = []\n",
        "\n",
        "for elt in columns:\n",
        "    if sr_df[elt].dtype == 'O':\n",
        "        category.append(elt)\n",
        "    else:\n",
        "        numeric.append(elt)\n",
        "\n",
        "print(f\"Numeric : {numeric}  \\n--> Size = {len(numeric)} numeric variable\")\n",
        "print(f\"Category : {category}  \\n---> Size = {len(category)} categorical variable\")"
      ],
      "metadata": {
        "colab": {
          "base_uri": "https://localhost:8080/"
        },
        "id": "-2kfHHs-_vmH",
        "outputId": "d8df0720-f7e5-425e-ea3e-cc3816f794d9"
      },
      "execution_count": 72,
      "outputs": [
        {
          "output_type": "stream",
          "name": "stdout",
          "text": [
            "Numeric : ['transaction_date', 'sales_outlet_id', 'order', 'product_id', 'quantity', 'unit_price']  \n",
            "--> Size = 6 numeric variable\n",
            "Category : ['transaction_time', 'instore_yn', 'promo_item_yn']  \n",
            "---> Size = 3 categorical variable\n"
          ]
        }
      ]
    },
    {
      "cell_type": "code",
      "source": [
        "sr_df[numeric].head()"
      ],
      "metadata": {
        "colab": {
          "base_uri": "https://localhost:8080/",
          "height": 206
        },
        "id": "vDGpbsXB_6Xe",
        "outputId": "033c8148-f449-4e68-84ae-b920a5c51877"
      },
      "execution_count": 73,
      "outputs": [
        {
          "output_type": "execute_result",
          "data": {
            "text/plain": [
              "  transaction_date  sales_outlet_id  order  product_id  quantity  unit_price\n",
              "0       2019-04-01                3      1          52         1        2.50\n",
              "1       2019-04-01                3      1          27         2        3.50\n",
              "2       2019-04-01                3      1          46         2        2.50\n",
              "3       2019-04-01                3      1          23         2        2.50\n",
              "4       2019-04-01                3      1          34         1        2.45"
            ],
            "text/html": [
              "\n",
              "  <div id=\"df-20ef60f8-114f-41a5-8dbb-c11bb3f79f3a\" class=\"colab-df-container\">\n",
              "    <div>\n",
              "<style scoped>\n",
              "    .dataframe tbody tr th:only-of-type {\n",
              "        vertical-align: middle;\n",
              "    }\n",
              "\n",
              "    .dataframe tbody tr th {\n",
              "        vertical-align: top;\n",
              "    }\n",
              "\n",
              "    .dataframe thead th {\n",
              "        text-align: right;\n",
              "    }\n",
              "</style>\n",
              "<table border=\"1\" class=\"dataframe\">\n",
              "  <thead>\n",
              "    <tr style=\"text-align: right;\">\n",
              "      <th></th>\n",
              "      <th>transaction_date</th>\n",
              "      <th>sales_outlet_id</th>\n",
              "      <th>order</th>\n",
              "      <th>product_id</th>\n",
              "      <th>quantity</th>\n",
              "      <th>unit_price</th>\n",
              "    </tr>\n",
              "  </thead>\n",
              "  <tbody>\n",
              "    <tr>\n",
              "      <th>0</th>\n",
              "      <td>2019-04-01</td>\n",
              "      <td>3</td>\n",
              "      <td>1</td>\n",
              "      <td>52</td>\n",
              "      <td>1</td>\n",
              "      <td>2.50</td>\n",
              "    </tr>\n",
              "    <tr>\n",
              "      <th>1</th>\n",
              "      <td>2019-04-01</td>\n",
              "      <td>3</td>\n",
              "      <td>1</td>\n",
              "      <td>27</td>\n",
              "      <td>2</td>\n",
              "      <td>3.50</td>\n",
              "    </tr>\n",
              "    <tr>\n",
              "      <th>2</th>\n",
              "      <td>2019-04-01</td>\n",
              "      <td>3</td>\n",
              "      <td>1</td>\n",
              "      <td>46</td>\n",
              "      <td>2</td>\n",
              "      <td>2.50</td>\n",
              "    </tr>\n",
              "    <tr>\n",
              "      <th>3</th>\n",
              "      <td>2019-04-01</td>\n",
              "      <td>3</td>\n",
              "      <td>1</td>\n",
              "      <td>23</td>\n",
              "      <td>2</td>\n",
              "      <td>2.50</td>\n",
              "    </tr>\n",
              "    <tr>\n",
              "      <th>4</th>\n",
              "      <td>2019-04-01</td>\n",
              "      <td>3</td>\n",
              "      <td>1</td>\n",
              "      <td>34</td>\n",
              "      <td>1</td>\n",
              "      <td>2.45</td>\n",
              "    </tr>\n",
              "  </tbody>\n",
              "</table>\n",
              "</div>\n",
              "    <div class=\"colab-df-buttons\">\n",
              "\n",
              "  <div class=\"colab-df-container\">\n",
              "    <button class=\"colab-df-convert\" onclick=\"convertToInteractive('df-20ef60f8-114f-41a5-8dbb-c11bb3f79f3a')\"\n",
              "            title=\"Convert this dataframe to an interactive table.\"\n",
              "            style=\"display:none;\">\n",
              "\n",
              "  <svg xmlns=\"http://www.w3.org/2000/svg\" height=\"24px\" viewBox=\"0 -960 960 960\">\n",
              "    <path d=\"M120-120v-720h720v720H120Zm60-500h600v-160H180v160Zm220 220h160v-160H400v160Zm0 220h160v-160H400v160ZM180-400h160v-160H180v160Zm440 0h160v-160H620v160ZM180-180h160v-160H180v160Zm440 0h160v-160H620v160Z\"/>\n",
              "  </svg>\n",
              "    </button>\n",
              "\n",
              "  <style>\n",
              "    .colab-df-container {\n",
              "      display:flex;\n",
              "      gap: 12px;\n",
              "    }\n",
              "\n",
              "    .colab-df-convert {\n",
              "      background-color: #E8F0FE;\n",
              "      border: none;\n",
              "      border-radius: 50%;\n",
              "      cursor: pointer;\n",
              "      display: none;\n",
              "      fill: #1967D2;\n",
              "      height: 32px;\n",
              "      padding: 0 0 0 0;\n",
              "      width: 32px;\n",
              "    }\n",
              "\n",
              "    .colab-df-convert:hover {\n",
              "      background-color: #E2EBFA;\n",
              "      box-shadow: 0px 1px 2px rgba(60, 64, 67, 0.3), 0px 1px 3px 1px rgba(60, 64, 67, 0.15);\n",
              "      fill: #174EA6;\n",
              "    }\n",
              "\n",
              "    .colab-df-buttons div {\n",
              "      margin-bottom: 4px;\n",
              "    }\n",
              "\n",
              "    [theme=dark] .colab-df-convert {\n",
              "      background-color: #3B4455;\n",
              "      fill: #D2E3FC;\n",
              "    }\n",
              "\n",
              "    [theme=dark] .colab-df-convert:hover {\n",
              "      background-color: #434B5C;\n",
              "      box-shadow: 0px 1px 3px 1px rgba(0, 0, 0, 0.15);\n",
              "      filter: drop-shadow(0px 1px 2px rgba(0, 0, 0, 0.3));\n",
              "      fill: #FFFFFF;\n",
              "    }\n",
              "  </style>\n",
              "\n",
              "    <script>\n",
              "      const buttonEl =\n",
              "        document.querySelector('#df-20ef60f8-114f-41a5-8dbb-c11bb3f79f3a button.colab-df-convert');\n",
              "      buttonEl.style.display =\n",
              "        google.colab.kernel.accessAllowed ? 'block' : 'none';\n",
              "\n",
              "      async function convertToInteractive(key) {\n",
              "        const element = document.querySelector('#df-20ef60f8-114f-41a5-8dbb-c11bb3f79f3a');\n",
              "        const dataTable =\n",
              "          await google.colab.kernel.invokeFunction('convertToInteractive',\n",
              "                                                    [key], {});\n",
              "        if (!dataTable) return;\n",
              "\n",
              "        const docLinkHtml = 'Like what you see? Visit the ' +\n",
              "          '<a target=\"_blank\" href=https://colab.research.google.com/notebooks/data_table.ipynb>data table notebook</a>'\n",
              "          + ' to learn more about interactive tables.';\n",
              "        element.innerHTML = '';\n",
              "        dataTable['output_type'] = 'display_data';\n",
              "        await google.colab.output.renderOutput(dataTable, element);\n",
              "        const docLink = document.createElement('div');\n",
              "        docLink.innerHTML = docLinkHtml;\n",
              "        element.appendChild(docLink);\n",
              "      }\n",
              "    </script>\n",
              "  </div>\n",
              "\n",
              "\n",
              "<div id=\"df-843a28cc-3cc5-45c8-8c4b-b13dbe3fa0ac\">\n",
              "  <button class=\"colab-df-quickchart\" onclick=\"quickchart('df-843a28cc-3cc5-45c8-8c4b-b13dbe3fa0ac')\"\n",
              "            title=\"Suggest charts\"\n",
              "            style=\"display:none;\">\n",
              "\n",
              "<svg xmlns=\"http://www.w3.org/2000/svg\" height=\"24px\"viewBox=\"0 0 24 24\"\n",
              "     width=\"24px\">\n",
              "    <g>\n",
              "        <path d=\"M19 3H5c-1.1 0-2 .9-2 2v14c0 1.1.9 2 2 2h14c1.1 0 2-.9 2-2V5c0-1.1-.9-2-2-2zM9 17H7v-7h2v7zm4 0h-2V7h2v10zm4 0h-2v-4h2v4z\"/>\n",
              "    </g>\n",
              "</svg>\n",
              "  </button>\n",
              "\n",
              "<style>\n",
              "  .colab-df-quickchart {\n",
              "      --bg-color: #E8F0FE;\n",
              "      --fill-color: #1967D2;\n",
              "      --hover-bg-color: #E2EBFA;\n",
              "      --hover-fill-color: #174EA6;\n",
              "      --disabled-fill-color: #AAA;\n",
              "      --disabled-bg-color: #DDD;\n",
              "  }\n",
              "\n",
              "  [theme=dark] .colab-df-quickchart {\n",
              "      --bg-color: #3B4455;\n",
              "      --fill-color: #D2E3FC;\n",
              "      --hover-bg-color: #434B5C;\n",
              "      --hover-fill-color: #FFFFFF;\n",
              "      --disabled-bg-color: #3B4455;\n",
              "      --disabled-fill-color: #666;\n",
              "  }\n",
              "\n",
              "  .colab-df-quickchart {\n",
              "    background-color: var(--bg-color);\n",
              "    border: none;\n",
              "    border-radius: 50%;\n",
              "    cursor: pointer;\n",
              "    display: none;\n",
              "    fill: var(--fill-color);\n",
              "    height: 32px;\n",
              "    padding: 0;\n",
              "    width: 32px;\n",
              "  }\n",
              "\n",
              "  .colab-df-quickchart:hover {\n",
              "    background-color: var(--hover-bg-color);\n",
              "    box-shadow: 0 1px 2px rgba(60, 64, 67, 0.3), 0 1px 3px 1px rgba(60, 64, 67, 0.15);\n",
              "    fill: var(--button-hover-fill-color);\n",
              "  }\n",
              "\n",
              "  .colab-df-quickchart-complete:disabled,\n",
              "  .colab-df-quickchart-complete:disabled:hover {\n",
              "    background-color: var(--disabled-bg-color);\n",
              "    fill: var(--disabled-fill-color);\n",
              "    box-shadow: none;\n",
              "  }\n",
              "\n",
              "  .colab-df-spinner {\n",
              "    border: 2px solid var(--fill-color);\n",
              "    border-color: transparent;\n",
              "    border-bottom-color: var(--fill-color);\n",
              "    animation:\n",
              "      spin 1s steps(1) infinite;\n",
              "  }\n",
              "\n",
              "  @keyframes spin {\n",
              "    0% {\n",
              "      border-color: transparent;\n",
              "      border-bottom-color: var(--fill-color);\n",
              "      border-left-color: var(--fill-color);\n",
              "    }\n",
              "    20% {\n",
              "      border-color: transparent;\n",
              "      border-left-color: var(--fill-color);\n",
              "      border-top-color: var(--fill-color);\n",
              "    }\n",
              "    30% {\n",
              "      border-color: transparent;\n",
              "      border-left-color: var(--fill-color);\n",
              "      border-top-color: var(--fill-color);\n",
              "      border-right-color: var(--fill-color);\n",
              "    }\n",
              "    40% {\n",
              "      border-color: transparent;\n",
              "      border-right-color: var(--fill-color);\n",
              "      border-top-color: var(--fill-color);\n",
              "    }\n",
              "    60% {\n",
              "      border-color: transparent;\n",
              "      border-right-color: var(--fill-color);\n",
              "    }\n",
              "    80% {\n",
              "      border-color: transparent;\n",
              "      border-right-color: var(--fill-color);\n",
              "      border-bottom-color: var(--fill-color);\n",
              "    }\n",
              "    90% {\n",
              "      border-color: transparent;\n",
              "      border-bottom-color: var(--fill-color);\n",
              "    }\n",
              "  }\n",
              "</style>\n",
              "\n",
              "  <script>\n",
              "    async function quickchart(key) {\n",
              "      const quickchartButtonEl =\n",
              "        document.querySelector('#' + key + ' button');\n",
              "      quickchartButtonEl.disabled = true;  // To prevent multiple clicks.\n",
              "      quickchartButtonEl.classList.add('colab-df-spinner');\n",
              "      try {\n",
              "        const charts = await google.colab.kernel.invokeFunction(\n",
              "            'suggestCharts', [key], {});\n",
              "      } catch (error) {\n",
              "        console.error('Error during call to suggestCharts:', error);\n",
              "      }\n",
              "      quickchartButtonEl.classList.remove('colab-df-spinner');\n",
              "      quickchartButtonEl.classList.add('colab-df-quickchart-complete');\n",
              "    }\n",
              "    (() => {\n",
              "      let quickchartButtonEl =\n",
              "        document.querySelector('#df-843a28cc-3cc5-45c8-8c4b-b13dbe3fa0ac button');\n",
              "      quickchartButtonEl.style.display =\n",
              "        google.colab.kernel.accessAllowed ? 'block' : 'none';\n",
              "    })();\n",
              "  </script>\n",
              "</div>\n",
              "\n",
              "    </div>\n",
              "  </div>\n"
            ],
            "application/vnd.google.colaboratory.intrinsic+json": {
              "type": "dataframe",
              "summary": "{\n  \"name\": \"sr_df[numeric]\",\n  \"rows\": 5,\n  \"fields\": [\n    {\n      \"column\": \"transaction_date\",\n      \"properties\": {\n        \"dtype\": \"date\",\n        \"min\": \"2019-04-01 00:00:00\",\n        \"max\": \"2019-04-01 00:00:00\",\n        \"num_unique_values\": 1,\n        \"samples\": [\n          \"2019-04-01 00:00:00\"\n        ],\n        \"semantic_type\": \"\",\n        \"description\": \"\"\n      }\n    },\n    {\n      \"column\": \"sales_outlet_id\",\n      \"properties\": {\n        \"dtype\": \"number\",\n        \"std\": 0,\n        \"min\": 3,\n        \"max\": 3,\n        \"num_unique_values\": 1,\n        \"samples\": [\n          3\n        ],\n        \"semantic_type\": \"\",\n        \"description\": \"\"\n      }\n    },\n    {\n      \"column\": \"order\",\n      \"properties\": {\n        \"dtype\": \"number\",\n        \"std\": 0,\n        \"min\": 1,\n        \"max\": 1,\n        \"num_unique_values\": 1,\n        \"samples\": [\n          1\n        ],\n        \"semantic_type\": \"\",\n        \"description\": \"\"\n      }\n    },\n    {\n      \"column\": \"product_id\",\n      \"properties\": {\n        \"dtype\": \"number\",\n        \"std\": 12,\n        \"min\": 23,\n        \"max\": 52,\n        \"num_unique_values\": 5,\n        \"samples\": [\n          27\n        ],\n        \"semantic_type\": \"\",\n        \"description\": \"\"\n      }\n    },\n    {\n      \"column\": \"quantity\",\n      \"properties\": {\n        \"dtype\": \"number\",\n        \"std\": 0,\n        \"min\": 1,\n        \"max\": 2,\n        \"num_unique_values\": 2,\n        \"samples\": [\n          2\n        ],\n        \"semantic_type\": \"\",\n        \"description\": \"\"\n      }\n    },\n    {\n      \"column\": \"unit_price\",\n      \"properties\": {\n        \"dtype\": \"number\",\n        \"std\": 0.4533210782657255,\n        \"min\": 2.45,\n        \"max\": 3.5,\n        \"num_unique_values\": 3,\n        \"samples\": [\n          2.5\n        ],\n        \"semantic_type\": \"\",\n        \"description\": \"\"\n      }\n    }\n  ]\n}"
            }
          },
          "metadata": {},
          "execution_count": 73
        }
      ]
    },
    {
      "cell_type": "code",
      "source": [
        "# Show which outlet have the largest quantity of sales\n",
        "sales_per_outlet = sr_df.groupby('sales_outlet_id')['quantity'].sum()\n",
        "largest_sales_outlet = sales_per_outlet.idxmax()\n",
        "print(\"Outlet with the largest sales based on quantity:\", largest_sales_outlet)"
      ],
      "metadata": {
        "colab": {
          "base_uri": "https://localhost:8080/"
        },
        "id": "ZwQXYBDC__3-",
        "outputId": "ebf53449-c5e5-42d9-98f4-795c4b982c37"
      },
      "execution_count": 74,
      "outputs": [
        {
          "output_type": "stream",
          "name": "stdout",
          "text": [
            "Outlet with the largest sales based on quantity: 8\n"
          ]
        }
      ]
    },
    {
      "cell_type": "code",
      "source": [
        "# Show which outlet have the smallest quantity of sales\n",
        "sales_per_outlet = sr_df.groupby('sales_outlet_id')['quantity'].sum()\n",
        "smallest_sales_outlet = sales_per_outlet.idxmin()\n",
        "print(\"Outlet with the smallest sales based on quantity:\", smallest_sales_outlet)"
      ],
      "metadata": {
        "colab": {
          "base_uri": "https://localhost:8080/"
        },
        "id": "E0ct0UbIABHQ",
        "outputId": "f5138eda-d477-4c1f-f0cc-bc8cfdfe7220"
      },
      "execution_count": 75,
      "outputs": [
        {
          "output_type": "stream",
          "name": "stdout",
          "text": [
            "Outlet with the smallest sales based on quantity: 3\n"
          ]
        }
      ]
    },
    {
      "cell_type": "code",
      "source": [
        "#Get the data from outlet 8 only\n",
        "outlet_8_df = sr_df[sr_df['sales_outlet_id'] == 8]\n",
        "\n",
        "print(\"DataFrame for sales outlet ID number 8:\")\n",
        "print(outlet_8_df)"
      ],
      "metadata": {
        "colab": {
          "base_uri": "https://localhost:8080/"
        },
        "id": "HrfKBs8CAEVx",
        "outputId": "4522d548-fcf7-49cf-ff70-3bcb152bd7be"
      },
      "execution_count": 76,
      "outputs": [
        {
          "output_type": "stream",
          "name": "stdout",
          "text": [
            "DataFrame for sales outlet ID number 8:\n",
            "      transaction_date transaction_time  sales_outlet_id instore_yn  order  \\\n",
            "1102        2019-04-01         09:05:11                8          Y      1   \n",
            "1103        2019-04-01         10:38:16                8          Y      1   \n",
            "1104        2019-04-01         10:38:16                8          Y      1   \n",
            "1105        2019-04-01         08:57:46                8          N      1   \n",
            "1106        2019-04-01         09:21:13                8          N      1   \n",
            "...                ...              ...              ...        ...    ...   \n",
            "49889       2019-04-29         16:51:58                8          N      1   \n",
            "49890       2019-04-29         16:51:14                8          Y      1   \n",
            "49891       2019-04-29         11:17:36                8          Y      1   \n",
            "49892       2019-04-29         15:45:52                8          N      1   \n",
            "49893       2019-04-29         15:45:52                8          N      1   \n",
            "\n",
            "       product_id  quantity  unit_price promo_item_yn  \n",
            "1102           42         1        2.50             N  \n",
            "1103           57         1        3.10             N  \n",
            "1104           69         1        3.25             N  \n",
            "1105           54         1        2.50             N  \n",
            "1106           54         2        2.50             N  \n",
            "...           ...       ...         ...           ...  \n",
            "49889          30         1        3.00             N  \n",
            "49890          25         2        2.20             N  \n",
            "49891          31         1        2.20             N  \n",
            "49892          44         2        2.50             N  \n",
            "49893          75         1        3.50             N  \n",
            "\n",
            "[17071 rows x 9 columns]\n"
          ]
        }
      ]
    },
    {
      "cell_type": "code",
      "source": [
        "#Get the data from outlet 3 only\n",
        "outlet_3_df = sr_df[sr_df['sales_outlet_id'] == 3]\n",
        "\n",
        "print(\"DataFrame for sales outlet ID number 3:\")\n",
        "print(outlet_3_df)"
      ],
      "metadata": {
        "colab": {
          "base_uri": "https://localhost:8080/"
        },
        "id": "Vi8fbTB-AHMj",
        "outputId": "af6f2d0f-d826-4354-fe63-d85c17c3307e"
      },
      "execution_count": 77,
      "outputs": [
        {
          "output_type": "stream",
          "name": "stdout",
          "text": [
            "DataFrame for sales outlet ID number 3:\n",
            "      transaction_date transaction_time  sales_outlet_id instore_yn  order  \\\n",
            "0           2019-04-01         12:04:43                3          N      1   \n",
            "1           2019-04-01         15:54:39                3          N      1   \n",
            "2           2019-04-01         14:34:59                3          Y      1   \n",
            "3           2019-04-01         16:06:04                3          N      1   \n",
            "4           2019-04-01         19:18:37                3          Y      1   \n",
            "...                ...              ...              ...        ...    ...   \n",
            "49003       2019-04-29         18:11:08                3          Y      1   \n",
            "49004       2019-04-29         15:49:24                3          Y      1   \n",
            "49005       2019-04-29         14:56:16                3          Y      1   \n",
            "49006       2019-04-29         14:56:16                3          Y      1   \n",
            "49007       2019-04-29         12:14:16                3          Y      1   \n",
            "\n",
            "       product_id  quantity  unit_price promo_item_yn  \n",
            "0              52         1        2.50             N  \n",
            "1              27         2        3.50             N  \n",
            "2              46         2        2.50             N  \n",
            "3              23         2        2.50             N  \n",
            "4              34         1        2.45             N  \n",
            "...           ...       ...         ...           ...  \n",
            "49003          57         2        3.10             N  \n",
            "49004          36         2        3.75             N  \n",
            "49005          34         2        2.45             N  \n",
            "49006          69         1        3.25             N  \n",
            "49007          59         1        4.50             N  \n",
            "\n",
            "[16829 rows x 9 columns]\n"
          ]
        }
      ]
    },
    {
      "cell_type": "code",
      "source": [
        "outlet_3_df.info()"
      ],
      "metadata": {
        "colab": {
          "base_uri": "https://localhost:8080/"
        },
        "id": "MR5NP0NcAJ7h",
        "outputId": "0bd09eb3-eb4d-4e4f-aabe-4a597ab0ab3c"
      },
      "execution_count": 78,
      "outputs": [
        {
          "output_type": "stream",
          "name": "stdout",
          "text": [
            "<class 'pandas.core.frame.DataFrame'>\n",
            "Index: 16829 entries, 0 to 49007\n",
            "Data columns (total 9 columns):\n",
            " #   Column            Non-Null Count  Dtype         \n",
            "---  ------            --------------  -----         \n",
            " 0   transaction_date  16829 non-null  datetime64[ns]\n",
            " 1   transaction_time  16829 non-null  object        \n",
            " 2   sales_outlet_id   16829 non-null  int64         \n",
            " 3   instore_yn        16829 non-null  object        \n",
            " 4   order             16829 non-null  int64         \n",
            " 5   product_id        16829 non-null  int64         \n",
            " 6   quantity          16829 non-null  int64         \n",
            " 7   unit_price        16829 non-null  float64       \n",
            " 8   promo_item_yn     16829 non-null  object        \n",
            "dtypes: datetime64[ns](1), float64(1), int64(4), object(3)\n",
            "memory usage: 1.3+ MB\n"
          ]
        }
      ]
    },
    {
      "cell_type": "code",
      "source": [
        "outlet_8_df.info()"
      ],
      "metadata": {
        "colab": {
          "base_uri": "https://localhost:8080/"
        },
        "id": "uAhw478xAMkA",
        "outputId": "46b1e2f8-a83f-4496-d7dc-ea55b2261e97"
      },
      "execution_count": 79,
      "outputs": [
        {
          "output_type": "stream",
          "name": "stdout",
          "text": [
            "<class 'pandas.core.frame.DataFrame'>\n",
            "Index: 17071 entries, 1102 to 49893\n",
            "Data columns (total 9 columns):\n",
            " #   Column            Non-Null Count  Dtype         \n",
            "---  ------            --------------  -----         \n",
            " 0   transaction_date  17071 non-null  datetime64[ns]\n",
            " 1   transaction_time  17071 non-null  object        \n",
            " 2   sales_outlet_id   17071 non-null  int64         \n",
            " 3   instore_yn        17071 non-null  object        \n",
            " 4   order             17071 non-null  int64         \n",
            " 5   product_id        17071 non-null  int64         \n",
            " 6   quantity          17071 non-null  int64         \n",
            " 7   unit_price        17071 non-null  float64       \n",
            " 8   promo_item_yn     17071 non-null  object        \n",
            "dtypes: datetime64[ns](1), float64(1), int64(4), object(3)\n",
            "memory usage: 1.3+ MB\n"
          ]
        }
      ]
    },
    {
      "cell_type": "code",
      "source": [
        "sr_df[category].head()"
      ],
      "metadata": {
        "colab": {
          "base_uri": "https://localhost:8080/",
          "height": 206
        },
        "id": "_opZtlPZAO7g",
        "outputId": "92e2f6af-dce8-42ac-a5ab-f0292097bc1d"
      },
      "execution_count": 80,
      "outputs": [
        {
          "output_type": "execute_result",
          "data": {
            "text/plain": [
              "  transaction_time instore_yn promo_item_yn\n",
              "0         12:04:43          N             N\n",
              "1         15:54:39          N             N\n",
              "2         14:34:59          Y             N\n",
              "3         16:06:04          N             N\n",
              "4         19:18:37          Y             N"
            ],
            "text/html": [
              "\n",
              "  <div id=\"df-15abb1cf-f6dc-4b57-a25d-5a597ebcc27a\" class=\"colab-df-container\">\n",
              "    <div>\n",
              "<style scoped>\n",
              "    .dataframe tbody tr th:only-of-type {\n",
              "        vertical-align: middle;\n",
              "    }\n",
              "\n",
              "    .dataframe tbody tr th {\n",
              "        vertical-align: top;\n",
              "    }\n",
              "\n",
              "    .dataframe thead th {\n",
              "        text-align: right;\n",
              "    }\n",
              "</style>\n",
              "<table border=\"1\" class=\"dataframe\">\n",
              "  <thead>\n",
              "    <tr style=\"text-align: right;\">\n",
              "      <th></th>\n",
              "      <th>transaction_time</th>\n",
              "      <th>instore_yn</th>\n",
              "      <th>promo_item_yn</th>\n",
              "    </tr>\n",
              "  </thead>\n",
              "  <tbody>\n",
              "    <tr>\n",
              "      <th>0</th>\n",
              "      <td>12:04:43</td>\n",
              "      <td>N</td>\n",
              "      <td>N</td>\n",
              "    </tr>\n",
              "    <tr>\n",
              "      <th>1</th>\n",
              "      <td>15:54:39</td>\n",
              "      <td>N</td>\n",
              "      <td>N</td>\n",
              "    </tr>\n",
              "    <tr>\n",
              "      <th>2</th>\n",
              "      <td>14:34:59</td>\n",
              "      <td>Y</td>\n",
              "      <td>N</td>\n",
              "    </tr>\n",
              "    <tr>\n",
              "      <th>3</th>\n",
              "      <td>16:06:04</td>\n",
              "      <td>N</td>\n",
              "      <td>N</td>\n",
              "    </tr>\n",
              "    <tr>\n",
              "      <th>4</th>\n",
              "      <td>19:18:37</td>\n",
              "      <td>Y</td>\n",
              "      <td>N</td>\n",
              "    </tr>\n",
              "  </tbody>\n",
              "</table>\n",
              "</div>\n",
              "    <div class=\"colab-df-buttons\">\n",
              "\n",
              "  <div class=\"colab-df-container\">\n",
              "    <button class=\"colab-df-convert\" onclick=\"convertToInteractive('df-15abb1cf-f6dc-4b57-a25d-5a597ebcc27a')\"\n",
              "            title=\"Convert this dataframe to an interactive table.\"\n",
              "            style=\"display:none;\">\n",
              "\n",
              "  <svg xmlns=\"http://www.w3.org/2000/svg\" height=\"24px\" viewBox=\"0 -960 960 960\">\n",
              "    <path d=\"M120-120v-720h720v720H120Zm60-500h600v-160H180v160Zm220 220h160v-160H400v160Zm0 220h160v-160H400v160ZM180-400h160v-160H180v160Zm440 0h160v-160H620v160ZM180-180h160v-160H180v160Zm440 0h160v-160H620v160Z\"/>\n",
              "  </svg>\n",
              "    </button>\n",
              "\n",
              "  <style>\n",
              "    .colab-df-container {\n",
              "      display:flex;\n",
              "      gap: 12px;\n",
              "    }\n",
              "\n",
              "    .colab-df-convert {\n",
              "      background-color: #E8F0FE;\n",
              "      border: none;\n",
              "      border-radius: 50%;\n",
              "      cursor: pointer;\n",
              "      display: none;\n",
              "      fill: #1967D2;\n",
              "      height: 32px;\n",
              "      padding: 0 0 0 0;\n",
              "      width: 32px;\n",
              "    }\n",
              "\n",
              "    .colab-df-convert:hover {\n",
              "      background-color: #E2EBFA;\n",
              "      box-shadow: 0px 1px 2px rgba(60, 64, 67, 0.3), 0px 1px 3px 1px rgba(60, 64, 67, 0.15);\n",
              "      fill: #174EA6;\n",
              "    }\n",
              "\n",
              "    .colab-df-buttons div {\n",
              "      margin-bottom: 4px;\n",
              "    }\n",
              "\n",
              "    [theme=dark] .colab-df-convert {\n",
              "      background-color: #3B4455;\n",
              "      fill: #D2E3FC;\n",
              "    }\n",
              "\n",
              "    [theme=dark] .colab-df-convert:hover {\n",
              "      background-color: #434B5C;\n",
              "      box-shadow: 0px 1px 3px 1px rgba(0, 0, 0, 0.15);\n",
              "      filter: drop-shadow(0px 1px 2px rgba(0, 0, 0, 0.3));\n",
              "      fill: #FFFFFF;\n",
              "    }\n",
              "  </style>\n",
              "\n",
              "    <script>\n",
              "      const buttonEl =\n",
              "        document.querySelector('#df-15abb1cf-f6dc-4b57-a25d-5a597ebcc27a button.colab-df-convert');\n",
              "      buttonEl.style.display =\n",
              "        google.colab.kernel.accessAllowed ? 'block' : 'none';\n",
              "\n",
              "      async function convertToInteractive(key) {\n",
              "        const element = document.querySelector('#df-15abb1cf-f6dc-4b57-a25d-5a597ebcc27a');\n",
              "        const dataTable =\n",
              "          await google.colab.kernel.invokeFunction('convertToInteractive',\n",
              "                                                    [key], {});\n",
              "        if (!dataTable) return;\n",
              "\n",
              "        const docLinkHtml = 'Like what you see? Visit the ' +\n",
              "          '<a target=\"_blank\" href=https://colab.research.google.com/notebooks/data_table.ipynb>data table notebook</a>'\n",
              "          + ' to learn more about interactive tables.';\n",
              "        element.innerHTML = '';\n",
              "        dataTable['output_type'] = 'display_data';\n",
              "        await google.colab.output.renderOutput(dataTable, element);\n",
              "        const docLink = document.createElement('div');\n",
              "        docLink.innerHTML = docLinkHtml;\n",
              "        element.appendChild(docLink);\n",
              "      }\n",
              "    </script>\n",
              "  </div>\n",
              "\n",
              "\n",
              "<div id=\"df-a5f9deb8-9c94-424b-ac73-500da4de2b32\">\n",
              "  <button class=\"colab-df-quickchart\" onclick=\"quickchart('df-a5f9deb8-9c94-424b-ac73-500da4de2b32')\"\n",
              "            title=\"Suggest charts\"\n",
              "            style=\"display:none;\">\n",
              "\n",
              "<svg xmlns=\"http://www.w3.org/2000/svg\" height=\"24px\"viewBox=\"0 0 24 24\"\n",
              "     width=\"24px\">\n",
              "    <g>\n",
              "        <path d=\"M19 3H5c-1.1 0-2 .9-2 2v14c0 1.1.9 2 2 2h14c1.1 0 2-.9 2-2V5c0-1.1-.9-2-2-2zM9 17H7v-7h2v7zm4 0h-2V7h2v10zm4 0h-2v-4h2v4z\"/>\n",
              "    </g>\n",
              "</svg>\n",
              "  </button>\n",
              "\n",
              "<style>\n",
              "  .colab-df-quickchart {\n",
              "      --bg-color: #E8F0FE;\n",
              "      --fill-color: #1967D2;\n",
              "      --hover-bg-color: #E2EBFA;\n",
              "      --hover-fill-color: #174EA6;\n",
              "      --disabled-fill-color: #AAA;\n",
              "      --disabled-bg-color: #DDD;\n",
              "  }\n",
              "\n",
              "  [theme=dark] .colab-df-quickchart {\n",
              "      --bg-color: #3B4455;\n",
              "      --fill-color: #D2E3FC;\n",
              "      --hover-bg-color: #434B5C;\n",
              "      --hover-fill-color: #FFFFFF;\n",
              "      --disabled-bg-color: #3B4455;\n",
              "      --disabled-fill-color: #666;\n",
              "  }\n",
              "\n",
              "  .colab-df-quickchart {\n",
              "    background-color: var(--bg-color);\n",
              "    border: none;\n",
              "    border-radius: 50%;\n",
              "    cursor: pointer;\n",
              "    display: none;\n",
              "    fill: var(--fill-color);\n",
              "    height: 32px;\n",
              "    padding: 0;\n",
              "    width: 32px;\n",
              "  }\n",
              "\n",
              "  .colab-df-quickchart:hover {\n",
              "    background-color: var(--hover-bg-color);\n",
              "    box-shadow: 0 1px 2px rgba(60, 64, 67, 0.3), 0 1px 3px 1px rgba(60, 64, 67, 0.15);\n",
              "    fill: var(--button-hover-fill-color);\n",
              "  }\n",
              "\n",
              "  .colab-df-quickchart-complete:disabled,\n",
              "  .colab-df-quickchart-complete:disabled:hover {\n",
              "    background-color: var(--disabled-bg-color);\n",
              "    fill: var(--disabled-fill-color);\n",
              "    box-shadow: none;\n",
              "  }\n",
              "\n",
              "  .colab-df-spinner {\n",
              "    border: 2px solid var(--fill-color);\n",
              "    border-color: transparent;\n",
              "    border-bottom-color: var(--fill-color);\n",
              "    animation:\n",
              "      spin 1s steps(1) infinite;\n",
              "  }\n",
              "\n",
              "  @keyframes spin {\n",
              "    0% {\n",
              "      border-color: transparent;\n",
              "      border-bottom-color: var(--fill-color);\n",
              "      border-left-color: var(--fill-color);\n",
              "    }\n",
              "    20% {\n",
              "      border-color: transparent;\n",
              "      border-left-color: var(--fill-color);\n",
              "      border-top-color: var(--fill-color);\n",
              "    }\n",
              "    30% {\n",
              "      border-color: transparent;\n",
              "      border-left-color: var(--fill-color);\n",
              "      border-top-color: var(--fill-color);\n",
              "      border-right-color: var(--fill-color);\n",
              "    }\n",
              "    40% {\n",
              "      border-color: transparent;\n",
              "      border-right-color: var(--fill-color);\n",
              "      border-top-color: var(--fill-color);\n",
              "    }\n",
              "    60% {\n",
              "      border-color: transparent;\n",
              "      border-right-color: var(--fill-color);\n",
              "    }\n",
              "    80% {\n",
              "      border-color: transparent;\n",
              "      border-right-color: var(--fill-color);\n",
              "      border-bottom-color: var(--fill-color);\n",
              "    }\n",
              "    90% {\n",
              "      border-color: transparent;\n",
              "      border-bottom-color: var(--fill-color);\n",
              "    }\n",
              "  }\n",
              "</style>\n",
              "\n",
              "  <script>\n",
              "    async function quickchart(key) {\n",
              "      const quickchartButtonEl =\n",
              "        document.querySelector('#' + key + ' button');\n",
              "      quickchartButtonEl.disabled = true;  // To prevent multiple clicks.\n",
              "      quickchartButtonEl.classList.add('colab-df-spinner');\n",
              "      try {\n",
              "        const charts = await google.colab.kernel.invokeFunction(\n",
              "            'suggestCharts', [key], {});\n",
              "      } catch (error) {\n",
              "        console.error('Error during call to suggestCharts:', error);\n",
              "      }\n",
              "      quickchartButtonEl.classList.remove('colab-df-spinner');\n",
              "      quickchartButtonEl.classList.add('colab-df-quickchart-complete');\n",
              "    }\n",
              "    (() => {\n",
              "      let quickchartButtonEl =\n",
              "        document.querySelector('#df-a5f9deb8-9c94-424b-ac73-500da4de2b32 button');\n",
              "      quickchartButtonEl.style.display =\n",
              "        google.colab.kernel.accessAllowed ? 'block' : 'none';\n",
              "    })();\n",
              "  </script>\n",
              "</div>\n",
              "\n",
              "    </div>\n",
              "  </div>\n"
            ],
            "application/vnd.google.colaboratory.intrinsic+json": {
              "type": "dataframe",
              "summary": "{\n  \"name\": \"sr_df[category]\",\n  \"rows\": 5,\n  \"fields\": [\n    {\n      \"column\": \"transaction_time\",\n      \"properties\": {\n        \"dtype\": \"object\",\n        \"num_unique_values\": 5,\n        \"samples\": [\n          \"15:54:39\",\n          \"19:18:37\",\n          \"14:34:59\"\n        ],\n        \"semantic_type\": \"\",\n        \"description\": \"\"\n      }\n    },\n    {\n      \"column\": \"instore_yn\",\n      \"properties\": {\n        \"dtype\": \"category\",\n        \"num_unique_values\": 2,\n        \"samples\": [\n          \"Y\",\n          \"N\"\n        ],\n        \"semantic_type\": \"\",\n        \"description\": \"\"\n      }\n    },\n    {\n      \"column\": \"promo_item_yn\",\n      \"properties\": {\n        \"dtype\": \"category\",\n        \"num_unique_values\": 1,\n        \"samples\": [\n          \"N\"\n        ],\n        \"semantic_type\": \"\",\n        \"description\": \"\"\n      }\n    }\n  ]\n}"
            }
          },
          "metadata": {},
          "execution_count": 80
        }
      ]
    },
    {
      "cell_type": "code",
      "source": [
        "# Checking the Outliers\n",
        "num_data = sr_df[numeric].drop('transaction_date', axis=1)  # Drop 'transaction_date' column once\n",
        "\n",
        "def detect_outliers_iqr(num_data):\n",
        "    Q1 = num_data.quantile(0.25)\n",
        "    Q3 = num_data.quantile(0.75)\n",
        "    IQR = Q3 - Q1\n",
        "    lower_bound = Q1 - 1.5 * IQR\n",
        "    upper_bound = Q3 + 1.5 * IQR\n",
        "\n",
        "    outliers_count = {}\n",
        "    for col in num_data.columns:\n",
        "        col_outliers = num_data.index[(num_data[col] < lower_bound[col]) | (num_data[col] > upper_bound[col])]\n",
        "        outliers_count[col] = len(col_outliers)\n",
        "\n",
        "    return outliers_count\n",
        "\n",
        "outliers_count = detect_outliers_iqr(num_data)\n",
        "print(\"Number of outliers per column:\")\n",
        "for col, count in outliers_count.items():\n",
        "    print(f\"{col}: {count}\")"
      ],
      "metadata": {
        "colab": {
          "base_uri": "https://localhost:8080/"
        },
        "id": "yrbvURy5AP-g",
        "outputId": "597c8eaf-5b74-4cc0-ede5-c474eaa93553"
      },
      "execution_count": 81,
      "outputs": [
        {
          "output_type": "stream",
          "name": "stdout",
          "text": [
            "Number of outliers per column:\n",
            "sales_outlet_id: 0\n",
            "order: 1507\n",
            "product_id: 0\n",
            "quantity: 14\n",
            "unit_price: 1389\n"
          ]
        }
      ]
    },
    {
      "cell_type": "code",
      "source": [
        "# Checking the Outliers for outlet 8 data\n",
        "num_data8 = outlet_8_df[numeric].drop('transaction_date', axis=1)  # Drop 'transaction_date' column once\n",
        "\n",
        "def detect_outliers_iqr(num_data):\n",
        "    Q1 = num_data8.quantile(0.25)\n",
        "    Q3 = num_data8.quantile(0.75)\n",
        "    IQR = Q3 - Q1\n",
        "    lower_bound = Q1 - 1.5 * IQR\n",
        "    upper_bound = Q3 + 1.5 * IQR\n",
        "\n",
        "    outliers_count = {}\n",
        "    for col in num_data8.columns:\n",
        "        col_outliers = num_data8.index[(num_data[col] < lower_bound[col]) | (num_data8[col] > upper_bound[col])]\n",
        "        outliers_count[col] = len(col_outliers)\n",
        "\n",
        "    return outliers_count\n",
        "\n",
        "outliers_count = detect_outliers_iqr(num_data8)\n",
        "print(\"Number of outliers per column on outlet 8 data:\")\n",
        "for col, count in outliers_count.items():\n",
        "    print(f\"{col}: {count}\")"
      ],
      "metadata": {
        "colab": {
          "base_uri": "https://localhost:8080/"
        },
        "id": "eUieFC5WASAz",
        "outputId": "07459ce9-763a-4b59-f666-3d5b112e89ee"
      },
      "execution_count": 82,
      "outputs": [
        {
          "output_type": "stream",
          "name": "stdout",
          "text": [
            "Number of outliers per column on outlet 8 data:\n",
            "sales_outlet_id: 0\n",
            "order: 509\n",
            "product_id: 0\n",
            "quantity: 4\n",
            "unit_price: 501\n"
          ]
        }
      ]
    },
    {
      "cell_type": "code",
      "source": [
        "filtered_df = outlet_8_df[~outlet_8_df['product_id'].between(69, 83)]\n",
        "\n",
        "print(filtered_df)"
      ],
      "metadata": {
        "colab": {
          "base_uri": "https://localhost:8080/"
        },
        "id": "38uPlvOhAU_0",
        "outputId": "dd01d1ff-57d6-4cdb-97a5-02f03d798ebe"
      },
      "execution_count": 83,
      "outputs": [
        {
          "output_type": "stream",
          "name": "stdout",
          "text": [
            "      transaction_date transaction_time  sales_outlet_id instore_yn  order  \\\n",
            "1102        2019-04-01         09:05:11                8          Y      1   \n",
            "1103        2019-04-01         10:38:16                8          Y      1   \n",
            "1105        2019-04-01         08:57:46                8          N      1   \n",
            "1106        2019-04-01         09:21:13                8          N      1   \n",
            "1107        2019-04-01         08:12:03                8          Y      1   \n",
            "...                ...              ...              ...        ...    ...   \n",
            "49888       2019-04-29         16:36:24                8          N      1   \n",
            "49889       2019-04-29         16:51:58                8          N      1   \n",
            "49890       2019-04-29         16:51:14                8          Y      1   \n",
            "49891       2019-04-29         11:17:36                8          Y      1   \n",
            "49892       2019-04-29         15:45:52                8          N      1   \n",
            "\n",
            "       product_id  quantity  unit_price promo_item_yn  \n",
            "1102           42         1         2.5             N  \n",
            "1103           57         1         3.1             N  \n",
            "1105           54         1         2.5             N  \n",
            "1106           54         2         2.5             N  \n",
            "1107           47         1         3.0             N  \n",
            "...           ...       ...         ...           ...  \n",
            "49888          87         1         2.1             Y  \n",
            "49889          30         1         3.0             N  \n",
            "49890          25         2         2.2             N  \n",
            "49891          31         1         2.2             N  \n",
            "49892          44         2         2.5             N  \n",
            "\n",
            "[14473 rows x 9 columns]\n"
          ]
        }
      ]
    },
    {
      "cell_type": "code",
      "source": [
        "# Convert 'transaction_date' column to datetime\n",
        "filtered_df['transaction_date'] = pd.to_datetime(filtered_df['transaction_date'])\n",
        "\n",
        "# Group by date and sum the quantities\n",
        "daily_sales = filtered_df.groupby(filtered_df['transaction_date'].dt.date)['quantity'].sum()\n",
        "\n",
        "# Create a DataFrame with 29 days of data\n",
        "start_date = daily_sales.index.min()\n",
        "end_date = start_date + pd.Timedelta(days=28)\n",
        "date_range = pd.date_range(start=start_date, end=end_date)\n",
        "\n",
        "# Initialize a DataFrame with 29 days and fill it with daily sales data\n",
        "compiled_data = pd.DataFrame(index=date_range, columns=['quantity'])\n",
        "compiled_data['quantity'] = daily_sales.reindex(date_range, fill_value=0)\n",
        "\n",
        "# Reset index to have a column for date\n",
        "compiled_data.reset_index(inplace=True)\n",
        "compiled_data.rename(columns={'index': 'date'}, inplace=True)\n",
        "\n",
        "print(compiled_data)"
      ],
      "metadata": {
        "colab": {
          "base_uri": "https://localhost:8080/"
        },
        "id": "jOa1TibsAZOE",
        "outputId": "43789547-129c-4a13-aee1-03375ed0f561"
      },
      "execution_count": 84,
      "outputs": [
        {
          "output_type": "stream",
          "name": "stdout",
          "text": [
            "         date  quantity\n",
            "0  2019-04-01       752\n",
            "1  2019-04-02       744\n",
            "2  2019-04-03       719\n",
            "3  2019-04-04       703\n",
            "4  2019-04-05       683\n",
            "5  2019-04-06       704\n",
            "6  2019-04-07       851\n",
            "7  2019-04-08       793\n",
            "8  2019-04-09       862\n",
            "9  2019-04-10       802\n",
            "10 2019-04-11       749\n",
            "11 2019-04-12       816\n",
            "12 2019-04-13       980\n",
            "13 2019-04-14       814\n",
            "14 2019-04-15       701\n",
            "15 2019-04-16       732\n",
            "16 2019-04-17       747\n",
            "17 2019-04-18       777\n",
            "18 2019-04-19       761\n",
            "19 2019-04-20       754\n",
            "20 2019-04-21       846\n",
            "21 2019-04-22       596\n",
            "22 2019-04-23       705\n",
            "23 2019-04-24       671\n",
            "24 2019-04-25       651\n",
            "25 2019-04-26       629\n",
            "26 2019-04-27       834\n",
            "27 2019-04-28       586\n",
            "28 2019-04-29       530\n"
          ]
        }
      ]
    },
    {
      "cell_type": "code",
      "source": [
        "# Plotting the Time Series Data\n",
        "plt.figure(figsize=(10, 6))\n",
        "plt.plot(compiled_data['date'], compiled_data['quantity'], marker='o', linestyle='-', color='b', label='Quantity')\n",
        "plt.title('Quantity over Time')\n",
        "plt.xlabel('Date')\n",
        "plt.ylabel('Quantity')\n",
        "plt.grid(True)\n",
        "plt.legend()\n",
        "plt.xticks(rotation=45)\n",
        "plt.tight_layout()\n",
        "plt.show()"
      ],
      "metadata": {
        "colab": {
          "base_uri": "https://localhost:8080/",
          "height": 607
        },
        "id": "G5Wb5633AiFS",
        "outputId": "068e2168-28b8-4134-ac71-d03010ff6047"
      },
      "execution_count": 85,
      "outputs": [
        {
          "output_type": "display_data",
          "data": {
            "text/plain": [
              "<Figure size 1000x600 with 1 Axes>"
            ],
            "image/png": "[encoded data removed]"
          },
          "metadata": {}
        }
      ]
    },
    {
      "cell_type": "code",
      "source": [
        "#### Make the time series data to be stationary with applying differencing and box-cox transformation\n",
        "from scipy.stats import boxcox\n",
        "\n",
        "# Calculate first differences\n",
        "compiled_data['quantity_diff'] = compiled_data['quantity'].diff()\n",
        "\n",
        "# Handle zero and negative values before applying Box-Cox\n",
        "positive_quantity = compiled_data['quantity'][compiled_data['quantity'] > 0]\n",
        "\n",
        "# Store the transformed data and lambda value in separate variables\n",
        "quantity_boxcox, lambda_value = boxcox(positive_quantity)\n",
        "\n",
        "# Create a new column in 'compiled_data' and fill it with the transformed values\n",
        "compiled_data['quantity_boxcox'] = pd.Series(quantity_boxcox, index=positive_quantity.index)\n",
        "\n",
        "# Plotting original and differenced data\n",
        "plt.figure(figsize=(12, 6))\n",
        "\n",
        "plt.subplot(2, 1, 1)\n",
        "plt.plot(compiled_data['date'], compiled_data['quantity'], marker='o', linestyle='-', color='b')\n",
        "plt.title('Original Data')\n",
        "plt.xlabel('Date')\n",
        "plt.ylabel('Quantity')\n",
        "plt.grid(True)\n",
        "\n",
        "plt.subplot(2, 1, 2)\n",
        "plt.plot(compiled_data['date'], compiled_data['quantity_diff'], marker='o', linestyle='-', color='r')\n",
        "plt.title('Stationary Data (After Differencing)')\n",
        "plt.xlabel('Date')\n",
        "plt.ylabel('Differenced Quantity')\n",
        "plt.grid(True)\n",
        "\n",
        "plt.tight_layout()\n",
        "plt.show()"
      ],
      "metadata": {
        "colab": {
          "base_uri": "https://localhost:8080/",
          "height": 607
        },
        "id": "3jr0phQVAmWX",
        "outputId": "46d270f6-f697-45a9-c3db-80f94d935a87"
      },
      "execution_count": 86,
      "outputs": [
        {
          "output_type": "display_data",
          "data": {
            "text/plain": [
              "<Figure size 1200x600 with 2 Axes>"
            ],
            "image/png": "[encoded data removed]"
          },
          "metadata": {}
        }
      ]
    },
    {
      "cell_type": "code",
      "source": [
        "#Calculate the Basic Statistics\n",
        "mean_quantity = compiled_data['quantity'].mean()\n",
        "median_quantity = compiled_data['quantity'].median()\n",
        "std_quantity = compiled_data['quantity'].std()\n",
        "\n",
        "print(f\"Mean Quantity: {mean_quantity}\")\n",
        "print(f\"Median Quantity: {median_quantity}\")\n",
        "print(f\"Standard Deviation of Quantity: {std_quantity}\")"
      ],
      "metadata": {
        "colab": {
          "base_uri": "https://localhost:8080/"
        },
        "id": "AMpfaBT_Avf3",
        "outputId": "96d5c14e-b5fd-433d-a9c0-f6391f7fef24"
      },
      "execution_count": 87,
      "outputs": [
        {
          "output_type": "stream",
          "name": "stdout",
          "text": [
            "Mean Quantity: 741.1034482758621\n",
            "Median Quantity: 747.0\n",
            "Standard Deviation of Quantity: 94.06735612147675\n"
          ]
        }
      ]
    },
    {
      "cell_type": "code",
      "source": [
        "compiled_data.head()"
      ],
      "metadata": {
        "colab": {
          "base_uri": "https://localhost:8080/",
          "height": 206
        },
        "id": "BuqY-81PAyny",
        "outputId": "1a97ad53-0e44-46bc-a710-c1f50cbd12ea"
      },
      "execution_count": 88,
      "outputs": [
        {
          "output_type": "execute_result",
          "data": {
            "text/plain": [
              "        date  quantity  quantity_diff  quantity_boxcox\n",
              "0 2019-04-01       752            NaN       561.879020\n",
              "1 2019-04-02       744           -8.0       556.198693\n",
              "2 2019-04-03       719          -25.0       538.427127\n",
              "3 2019-04-04       703          -16.0       527.036599\n",
              "4 2019-04-05       683          -20.0       512.779524"
            ],
            "text/html": [
              "\n",
              "  <div id=\"df-29f94495-74b5-45ec-8365-ae450c16cf07\" class=\"colab-df-container\">\n",
              "    <div>\n",
              "<style scoped>\n",
              "    .dataframe tbody tr th:only-of-type {\n",
              "        vertical-align: middle;\n",
              "    }\n",
              "\n",
              "    .dataframe tbody tr th {\n",
              "        vertical-align: top;\n",
              "    }\n",
              "\n",
              "    .dataframe thead th {\n",
              "        text-align: right;\n",
              "    }\n",
              "</style>\n",
              "<table border=\"1\" class=\"dataframe\">\n",
              "  <thead>\n",
              "    <tr style=\"text-align: right;\">\n",
              "      <th></th>\n",
              "      <th>date</th>\n",
              "      <th>quantity</th>\n",
              "      <th>quantity_diff</th>\n",
              "      <th>quantity_boxcox</th>\n",
              "    </tr>\n",
              "  </thead>\n",
              "  <tbody>\n",
              "    <tr>\n",
              "      <th>0</th>\n",
              "      <td>2019-04-01</td>\n",
              "      <td>752</td>\n",
              "      <td>NaN</td>\n",
              "      <td>561.879020</td>\n",
              "    </tr>\n",
              "    <tr>\n",
              "      <th>1</th>\n",
              "      <td>2019-04-02</td>\n",
              "      <td>744</td>\n",
              "      <td>-8.0</td>\n",
              "      <td>556.198693</td>\n",
              "    </tr>\n",
              "    <tr>\n",
              "      <th>2</th>\n",
              "      <td>2019-04-03</td>\n",
              "      <td>719</td>\n",
              "      <td>-25.0</td>\n",
              "      <td>538.427127</td>\n",
              "    </tr>\n",
              "    <tr>\n",
              "      <th>3</th>\n",
              "      <td>2019-04-04</td>\n",
              "      <td>703</td>\n",
              "      <td>-16.0</td>\n",
              "      <td>527.036599</td>\n",
              "    </tr>\n",
              "    <tr>\n",
              "      <th>4</th>\n",
              "      <td>2019-04-05</td>\n",
              "      <td>683</td>\n",
              "      <td>-20.0</td>\n",
              "      <td>512.779524</td>\n",
              "    </tr>\n",
              "  </tbody>\n",
              "</table>\n",
              "</div>\n",
              "    <div class=\"colab-df-buttons\">\n",
              "\n",
              "  <div class=\"colab-df-container\">\n",
              "    <button class=\"colab-df-convert\" onclick=\"convertToInteractive('df-29f94495-74b5-45ec-8365-ae450c16cf07')\"\n",
              "            title=\"Convert this dataframe to an interactive table.\"\n",
              "            style=\"display:none;\">\n",
              "\n",
              "  <svg xmlns=\"http://www.w3.org/2000/svg\" height=\"24px\" viewBox=\"0 -960 960 960\">\n",
              "    <path d=\"M120-120v-720h720v720H120Zm60-500h600v-160H180v160Zm220 220h160v-160H400v160Zm0 220h160v-160H400v160ZM180-400h160v-160H180v160Zm440 0h160v-160H620v160ZM180-180h160v-160H180v160Zm440 0h160v-160H620v160Z\"/>\n",
              "  </svg>\n",
              "    </button>\n",
              "\n",
              "  <style>\n",
              "    .colab-df-container {\n",
              "      display:flex;\n",
              "      gap: 12px;\n",
              "    }\n",
              "\n",
              "    .colab-df-convert {\n",
              "      background-color: #E8F0FE;\n",
              "      border: none;\n",
              "      border-radius: 50%;\n",
              "      cursor: pointer;\n",
              "      display: none;\n",
              "      fill: #1967D2;\n",
              "      height: 32px;\n",
              "      padding: 0 0 0 0;\n",
              "      width: 32px;\n",
              "    }\n",
              "\n",
              "    .colab-df-convert:hover {\n",
              "      background-color: #E2EBFA;\n",
              "      box-shadow: 0px 1px 2px rgba(60, 64, 67, 0.3), 0px 1px 3px 1px rgba(60, 64, 67, 0.15);\n",
              "      fill: #174EA6;\n",
              "    }\n",
              "\n",
              "    .colab-df-buttons div {\n",
              "      margin-bottom: 4px;\n",
              "    }\n",
              "\n",
              "    [theme=dark] .colab-df-convert {\n",
              "      background-color: #3B4455;\n",
              "      fill: #D2E3FC;\n",
              "    }\n",
              "\n",
              "    [theme=dark] .colab-df-convert:hover {\n",
              "      background-color: #434B5C;\n",
              "      box-shadow: 0px 1px 3px 1px rgba(0, 0, 0, 0.15);\n",
              "      filter: drop-shadow(0px 1px 2px rgba(0, 0, 0, 0.3));\n",
              "      fill: #FFFFFF;\n",
              "    }\n",
              "  </style>\n",
              "\n",
              "    <script>\n",
              "      const buttonEl =\n",
              "        document.querySelector('#df-29f94495-74b5-45ec-8365-ae450c16cf07 button.colab-df-convert');\n",
              "      buttonEl.style.display =\n",
              "        google.colab.kernel.accessAllowed ? 'block' : 'none';\n",
              "\n",
              "      async function convertToInteractive(key) {\n",
              "        const element = document.querySelector('#df-29f94495-74b5-45ec-8365-ae450c16cf07');\n",
              "        const dataTable =\n",
              "          await google.colab.kernel.invokeFunction('convertToInteractive',\n",
              "                                                    [key], {});\n",
              "        if (!dataTable) return;\n",
              "\n",
              "        const docLinkHtml = 'Like what you see? Visit the ' +\n",
              "          '<a target=\"_blank\" href=https://colab.research.google.com/notebooks/data_table.ipynb>data table notebook</a>'\n",
              "          + ' to learn more about interactive tables.';\n",
              "        element.innerHTML = '';\n",
              "        dataTable['output_type'] = 'display_data';\n",
              "        await google.colab.output.renderOutput(dataTable, element);\n",
              "        const docLink = document.createElement('div');\n",
              "        docLink.innerHTML = docLinkHtml;\n",
              "        element.appendChild(docLink);\n",
              "      }\n",
              "    </script>\n",
              "  </div>\n",
              "\n",
              "\n",
              "<div id=\"df-457a7840-cd21-441e-9808-1d8d2242f36d\">\n",
              "  <button class=\"colab-df-quickchart\" onclick=\"quickchart('df-457a7840-cd21-441e-9808-1d8d2242f36d')\"\n",
              "            title=\"Suggest charts\"\n",
              "            style=\"display:none;\">\n",
              "\n",
              "<svg xmlns=\"http://www.w3.org/2000/svg\" height=\"24px\"viewBox=\"0 0 24 24\"\n",
              "     width=\"24px\">\n",
              "    <g>\n",
              "        <path d=\"M19 3H5c-1.1 0-2 .9-2 2v14c0 1.1.9 2 2 2h14c1.1 0 2-.9 2-2V5c0-1.1-.9-2-2-2zM9 17H7v-7h2v7zm4 0h-2V7h2v10zm4 0h-2v-4h2v4z\"/>\n",
              "    </g>\n",
              "</svg>\n",
              "  </button>\n",
              "\n",
              "<style>\n",
              "  .colab-df-quickchart {\n",
              "      --bg-color: #E8F0FE;\n",
              "      --fill-color: #1967D2;\n",
              "      --hover-bg-color: #E2EBFA;\n",
              "      --hover-fill-color: #174EA6;\n",
              "      --disabled-fill-color: #AAA;\n",
              "      --disabled-bg-color: #DDD;\n",
              "  }\n",
              "\n",
              "  [theme=dark] .colab-df-quickchart {\n",
              "      --bg-color: #3B4455;\n",
              "      --fill-color: #D2E3FC;\n",
              "      --hover-bg-color: #434B5C;\n",
              "      --hover-fill-color: #FFFFFF;\n",
              "      --disabled-bg-color: #3B4455;\n",
              "      --disabled-fill-color: #666;\n",
              "  }\n",
              "\n",
              "  .colab-df-quickchart {\n",
              "    background-color: var(--bg-color);\n",
              "    border: none;\n",
              "    border-radius: 50%;\n",
              "    cursor: pointer;\n",
              "    display: none;\n",
              "    fill: var(--fill-color);\n",
              "    height: 32px;\n",
              "    padding: 0;\n",
              "    width: 32px;\n",
              "  }\n",
              "\n",
              "  .colab-df-quickchart:hover {\n",
              "    background-color: var(--hover-bg-color);\n",
              "    box-shadow: 0 1px 2px rgba(60, 64, 67, 0.3), 0 1px 3px 1px rgba(60, 64, 67, 0.15);\n",
              "    fill: var(--button-hover-fill-color);\n",
              "  }\n",
              "\n",
              "  .colab-df-quickchart-complete:disabled,\n",
              "  .colab-df-quickchart-complete:disabled:hover {\n",
              "    background-color: var(--disabled-bg-color);\n",
              "    fill: var(--disabled-fill-color);\n",
              "    box-shadow: none;\n",
              "  }\n",
              "\n",
              "  .colab-df-spinner {\n",
              "    border: 2px solid var(--fill-color);\n",
              "    border-color: transparent;\n",
              "    border-bottom-color: var(--fill-color);\n",
              "    animation:\n",
              "      spin 1s steps(1) infinite;\n",
              "  }\n",
              "\n",
              "  @keyframes spin {\n",
              "    0% {\n",
              "      border-color: transparent;\n",
              "      border-bottom-color: var(--fill-color);\n",
              "      border-left-color: var(--fill-color);\n",
              "    }\n",
              "    20% {\n",
              "      border-color: transparent;\n",
              "      border-left-color: var(--fill-color);\n",
              "      border-top-color: var(--fill-color);\n",
              "    }\n",
              "    30% {\n",
              "      border-color: transparent;\n",
              "      border-left-color: var(--fill-color);\n",
              "      border-top-color: var(--fill-color);\n",
              "      border-right-color: var(--fill-color);\n",
              "    }\n",
              "    40% {\n",
              "      border-color: transparent;\n",
              "      border-right-color: var(--fill-color);\n",
              "      border-top-color: var(--fill-color);\n",
              "    }\n",
              "    60% {\n",
              "      border-color: transparent;\n",
              "      border-right-color: var(--fill-color);\n",
              "    }\n",
              "    80% {\n",
              "      border-color: transparent;\n",
              "      border-right-color: var(--fill-color);\n",
              "      border-bottom-color: var(--fill-color);\n",
              "    }\n",
              "    90% {\n",
              "      border-color: transparent;\n",
              "      border-bottom-color: var(--fill-color);\n",
              "    }\n",
              "  }\n",
              "</style>\n",
              "\n",
              "  <script>\n",
              "    async function quickchart(key) {\n",
              "      const quickchartButtonEl =\n",
              "        document.querySelector('#' + key + ' button');\n",
              "      quickchartButtonEl.disabled = true;  // To prevent multiple clicks.\n",
              "      quickchartButtonEl.classList.add('colab-df-spinner');\n",
              "      try {\n",
              "        const charts = await google.colab.kernel.invokeFunction(\n",
              "            'suggestCharts', [key], {});\n",
              "      } catch (error) {\n",
              "        console.error('Error during call to suggestCharts:', error);\n",
              "      }\n",
              "      quickchartButtonEl.classList.remove('colab-df-spinner');\n",
              "      quickchartButtonEl.classList.add('colab-df-quickchart-complete');\n",
              "    }\n",
              "    (() => {\n",
              "      let quickchartButtonEl =\n",
              "        document.querySelector('#df-457a7840-cd21-441e-9808-1d8d2242f36d button');\n",
              "      quickchartButtonEl.style.display =\n",
              "        google.colab.kernel.accessAllowed ? 'block' : 'none';\n",
              "    })();\n",
              "  </script>\n",
              "</div>\n",
              "\n",
              "    </div>\n",
              "  </div>\n"
            ],
            "application/vnd.google.colaboratory.intrinsic+json": {
              "type": "dataframe",
              "variable_name": "compiled_data",
              "summary": "{\n  \"name\": \"compiled_data\",\n  \"rows\": 29,\n  \"fields\": [\n    {\n      \"column\": \"date\",\n      \"properties\": {\n        \"dtype\": \"date\",\n        \"min\": \"2019-04-01 00:00:00\",\n        \"max\": \"2019-04-29 00:00:00\",\n        \"num_unique_values\": 29,\n        \"samples\": [\n          \"2019-04-28 00:00:00\",\n          \"2019-04-17 00:00:00\",\n          \"2019-04-13 00:00:00\"\n        ],\n        \"semantic_type\": \"\",\n        \"description\": \"\"\n      }\n    },\n    {\n      \"column\": \"quantity\",\n      \"properties\": {\n        \"dtype\": \"number\",\n        \"std\": 94,\n        \"min\": 530,\n        \"max\": 980,\n        \"num_unique_values\": 29,\n        \"samples\": [\n          586,\n          747,\n          980\n        ],\n        \"semantic_type\": \"\",\n        \"description\": \"\"\n      }\n    },\n    {\n      \"column\": \"quantity_diff\",\n      \"properties\": {\n        \"dtype\": \"number\",\n        \"std\": 105.72848824944593,\n        \"min\": -250.0,\n        \"max\": 205.0,\n        \"num_unique_values\": 26,\n        \"samples\": [\n          -60.0,\n          30.0,\n          -8.0\n        ],\n        \"semantic_type\": \"\",\n        \"description\": \"\"\n      }\n    },\n    {\n      \"column\": \"quantity_boxcox\",\n      \"properties\": {\n        \"dtype\": \"number\",\n        \"std\": 66.84880972658452,\n        \"min\": 402.9420988024162,\n        \"max\": 722.5712079915418,\n        \"num_unique_values\": 29,\n        \"samples\": [\n          443.3128619010082,\n          558.3291841423729,\n          722.5712079915418\n        ],\n        \"semantic_type\": \"\",\n        \"description\": \"\"\n      }\n    }\n  ]\n}"
            }
          },
          "metadata": {},
          "execution_count": 88
        }
      ]
    },
    {
      "cell_type": "code",
      "source": [
        "#Check the shape of the data\n",
        "compiled_data.shape"
      ],
      "metadata": {
        "colab": {
          "base_uri": "https://localhost:8080/"
        },
        "id": "tbpMJor5Az8h",
        "outputId": "5872e8d1-7a1f-4566-972c-f72fe1c27e04"
      },
      "execution_count": 28,
      "outputs": [
        {
          "output_type": "execute_result",
          "data": {
            "text/plain": [
              "(29, 4)"
            ]
          },
          "metadata": {},
          "execution_count": 28
        }
      ]
    },
    {
      "cell_type": "code",
      "source": [
        "#Boxplot\n",
        "plt.figure(figsize=(8,5))\n",
        "sns.boxplot(data=compiled_data, x='quantity')\n",
        "plt.xlabel('Quantity of Sales')\n",
        "plt.title(f'Boxplot - Sales Distribution');"
      ],
      "metadata": {
        "colab": {
          "base_uri": "https://localhost:8080/",
          "height": 487
        },
        "id": "YkNAAME1A4np",
        "outputId": "98ee3a40-3dad-48fb-c07d-d2c75bb12a7e"
      },
      "execution_count": 89,
      "outputs": [
        {
          "output_type": "display_data",
          "data": {
            "text/plain": [
              "<Figure size 800x500 with 1 Axes>"
            ],
            "image/png": "[encoded data removed]"
          },
          "metadata": {}
        }
      ]
    },
    {
      "cell_type": "code",
      "source": [
        "## Using ADF test to know if the time series data is already stationary or not\n",
        "## Using ACF and PACF plot to help deciding the orders for the ARIMA\n",
        "\n",
        "import statsmodels.api as sm\n",
        "import statsmodels.graphics.tsaplots as smt\n",
        "import pandas as pd\n",
        "\n",
        "def tsplot(y, lags=None, figsize=(12, 7), style='bmh'):\n",
        "    if not isinstance(y, pd.Series):\n",
        "        if isinstance(y, pd.DataFrame) and y.shape[1] == 2:\n",
        "            y = y.iloc[:, 1]\n",
        "        else:\n",
        "            raise ValueError(\"Input data should be a pandas Series or DataFrame with two columns.\")\n",
        "\n",
        "    with plt.style.context(style=style):\n",
        "        fig = plt.figure(figsize=figsize)\n",
        "        layout = (2, 2)\n",
        "        ts_ax = plt.subplot2grid(layout, (0, 0), colspan=2)\n",
        "        acf_ax = plt.subplot2grid(layout, (1, 0))\n",
        "        pacf_ax = plt.subplot2grid(layout, (1, 1))\n",
        "\n",
        "        y.plot(ax=ts_ax)\n",
        "        p_value = sm.tsa.stattools.adfuller(y)[1]\n",
        "        ts_ax.set_title('Time Series Analysis Plots\\n Dickey-Fuller: p={0:.5f}'.format(p_value))\n",
        "\n",
        "        if lags is not None and len(y) >= lags:\n",
        "            smt.plot_acf(y, lags=min(lags, len(y)-1), ax=acf_ax)\n",
        "            smt.plot_pacf(y, lags=min(lags, len(y)-1), ax=pacf_ax)\n",
        "        else:\n",
        "            print(\"Input array length is less than the number of lags. Cannot plot autocorrelation.\")\n",
        "\n",
        "        plt.tight_layout()\n",
        "\n",
        "tsplot(compiled_data['quantity'], lags=13)"
      ],
      "metadata": {
        "colab": {
          "base_uri": "https://localhost:8080/",
          "height": 707
        },
        "id": "N8-pCivNA8Pv",
        "outputId": "a5a1a36b-07dc-41ee-cc12-e486895efcd1"
      },
      "execution_count": 90,
      "outputs": [
        {
          "output_type": "display_data",
          "data": {
            "text/plain": [
              "<Figure size 1200x700 with 3 Axes>"
            ],
            "image/png": "[encoded data removed]"
          },
          "metadata": {}
        }
      ]
    },
    {
      "cell_type": "code",
      "source": [
        "## As for the ADF test resulting in p-value of 0.02718, it means that the p-value is less than the significance level of 0.05.\n",
        "## Hence we can reject the null hypothesis and take that the series is stationary\n",
        "## The ACF and PACF cuts off/not significant at lag 0 while its significant at lag 1 and others\n",
        "## Significant spikes at higher lags (like lag 1 and beyond) indicate that these lags are contributing to the autocorrelation structure of the series.\n",
        "## Significant spikes at higher lags in the PACF plot indicate that these lags are directly influencing the current value of the series."
      ],
      "metadata": {
        "id": "JcCeOP3ZDE6z"
      },
      "execution_count": 91,
      "outputs": []
    },
    {
      "cell_type": "markdown",
      "source": [
        "## Data Preparation"
      ],
      "metadata": {
        "id": "2AHhtRCyEN5s"
      }
    },
    {
      "cell_type": "code",
      "source": [
        "# Splitting the data into training and testing sets\n",
        "train_size = int(len(compiled_data) * 0.80)\n",
        "train, test = compiled_data[:train_size], compiled_data[train_size:]\n",
        "TIME_STEPS = 10\n",
        "min_test_size = TIME_STEPS + 1\n",
        "train_size = min(train_size, len(compiled_data) - min_test_size)\n",
        "train, test = compiled_data[:train_size], compiled_data[train_size:]\n",
        "\n",
        "# Scaling the data\n",
        "scaler = StandardScaler()\n",
        "train_quantity = train['quantity']\n",
        "test_quantity = test['quantity']\n",
        "\n",
        "train_scaled = scaler.fit_transform(train_quantity.values.reshape(-1, 1))\n",
        "test_scaled = scaler.transform(test_quantity.values.reshape(-1, 1))\n",
        "\n",
        "train_scaled_series = pd.Series(train_scaled.flatten(), index=train.index, name='sales_scaled')\n",
        "test_scaled_series = pd.Series(test_scaled.flatten(), index=test.index, name='sales_scaled')\n",
        "\n",
        "# Function to create sequences\n",
        "def create_sequences(X, y, time_steps=1):\n",
        "    Xs, ys = [], []\n",
        "    for i in range(len(X) - time_steps):\n",
        "        v = X.iloc[i:(i + time_steps)].values\n",
        "        Xs.append(v)\n",
        "        ys.append(y.iloc[i + time_steps])\n",
        "    return np.array(Xs), np.array(ys)\n",
        "\n",
        "# Create sequences with scaled data\n",
        "X_train, y_train = create_sequences(train_scaled_series, train_scaled_series, TIME_STEPS)\n",
        "X_test, y_test = create_sequences(test_scaled_series, test_scaled_series, TIME_STEPS)\n",
        "\n",
        "# Reshape data\n",
        "X_train = X_train.reshape(X_train.shape[0], TIME_STEPS, 1)\n",
        "X_test = X_test.reshape(X_test.shape[0], TIME_STEPS, 1)"
      ],
      "metadata": {
        "id": "Z_535pJAEc6S"
      },
      "execution_count": 93,
      "outputs": []
    },
    {
      "cell_type": "markdown",
      "source": [
        "## Neural Networks"
      ],
      "metadata": {
        "id": "GGJyDK83Entn"
      }
    },
    {
      "cell_type": "code",
      "source": [
        "import tensorflow as tf\n",
        "from tensorflow.keras.models import Sequential, load_model\n",
        "from tensorflow.keras.layers import Dense, Dropout\n",
        "from sklearn.preprocessing import StandardScaler\n",
        "from sklearn.metrics import mean_squared_error\n",
        "import numpy as np\n",
        "\n",
        "def train_and_evaluate_model(X_train, X_test, y_train, y_test):\n",
        "    # Reshape data for StandardScaler (flatten along time steps)\n",
        "    X_train_flat = X_train.reshape(X_train.shape[0], -1)\n",
        "    X_test_flat = X_test.reshape(X_test.shape[0], -1)\n",
        "\n",
        "    # Initialize StandardScaler\n",
        "    scaler = StandardScaler()\n",
        "\n",
        "    # Fit on training data\n",
        "    scaler.fit(X_train_flat)\n",
        "\n",
        "    # Transform training and test data\n",
        "    X_train_scaled = scaler.transform(X_train_flat)\n",
        "    X_test_scaled = scaler.transform(X_test_flat)\n",
        "\n",
        "    # Initialize neural network model\n",
        "    model_nn = Sequential([\n",
        "        Dense(units=64, activation='relu', input_shape=(X_train.shape[1],)),\n",
        "        Dropout(0.2),\n",
        "        Dense(units=32, activation='relu'),\n",
        "        Dense(units=1)\n",
        "    ])\n",
        "\n",
        "    # Compile the model\n",
        "    model_nn.compile(optimizer='adam', loss='mean_squared_error')\n",
        "\n",
        "    # Train the model\n",
        "    history = model_nn.fit(X_train_scaled, y_train, epochs=50, batch_size=32, validation_split=0.1, verbose=1)\n",
        "\n",
        "    # Predictions on the test set\n",
        "    predictions_nn = model_nn.predict(X_test_scaled).flatten()\n",
        "\n",
        "    # Calculate RMSE\n",
        "    rmse_nn = np.sqrt(mean_squared_error(y_test, predictions_nn))\n",
        "    print(f\"Neural Network Test Set RMSE: {rmse_nn}\")\n",
        "\n",
        "    # Save the model to an HDF5 file\n",
        "    model_nn.save(\"model_nn.h5\")\n",
        "\n",
        "    return model_nn, rmse_nn\n",
        "\n",
        "if __name__ == '__main__':\n",
        "    model, rmse = train_and_evaluate_model(X_train, X_test, y_train, y_test)\n",
        "    print(\"Model saved successfully as model_nn.h5\")"
      ],
      "metadata": {
        "colab": {
          "base_uri": "https://localhost:8080/"
        },
        "id": "5b5Qhwj5BCoM",
        "outputId": "0ac2e88f-6015-4880-825a-1b8d12801c90"
      },
      "execution_count": 100,
      "outputs": [
        {
          "output_type": "stream",
          "name": "stdout",
          "text": [
            "Epoch 1/50\n",
            "1/1 [==============================] - 1s 1s/step - loss: 1.5690 - val_loss: 1.0095\n",
            "Epoch 2/50\n",
            "1/1 [==============================] - 0s 40ms/step - loss: 1.5438 - val_loss: 0.9508\n",
            "Epoch 3/50\n",
            "1/1 [==============================] - 0s 41ms/step - loss: 1.6649 - val_loss: 0.8928\n",
            "Epoch 4/50\n",
            "1/1 [==============================] - 0s 40ms/step - loss: 1.3107 - val_loss: 0.8471\n",
            "Epoch 5/50\n",
            "1/1 [==============================] - 0s 41ms/step - loss: 1.1695 - val_loss: 0.8007\n",
            "Epoch 6/50\n",
            "1/1 [==============================] - 0s 65ms/step - loss: 1.1582 - val_loss: 0.7482\n",
            "Epoch 7/50\n",
            "1/1 [==============================] - 0s 51ms/step - loss: 1.1380 - val_loss: 0.6972\n",
            "Epoch 8/50\n",
            "1/1 [==============================] - 0s 55ms/step - loss: 0.9205 - val_loss: 0.6581\n",
            "Epoch 9/50\n",
            "1/1 [==============================] - 0s 40ms/step - loss: 1.5215 - val_loss: 0.6329\n",
            "Epoch 10/50\n",
            "1/1 [==============================] - 0s 42ms/step - loss: 0.8422 - val_loss: 0.6102\n",
            "Epoch 11/50\n",
            "1/1 [==============================] - 0s 43ms/step - loss: 0.9520 - val_loss: 0.5917\n",
            "Epoch 12/50\n",
            "1/1 [==============================] - 0s 41ms/step - loss: 0.6331 - val_loss: 0.5751\n",
            "Epoch 13/50\n",
            "1/1 [==============================] - 0s 38ms/step - loss: 0.6908 - val_loss: 0.5593\n",
            "Epoch 14/50\n",
            "1/1 [==============================] - 0s 44ms/step - loss: 0.5663 - val_loss: 0.5461\n",
            "Epoch 15/50\n",
            "1/1 [==============================] - 0s 44ms/step - loss: 1.1204 - val_loss: 0.5350\n",
            "Epoch 16/50\n",
            "1/1 [==============================] - 0s 39ms/step - loss: 0.9652 - val_loss: 0.5208\n",
            "Epoch 17/50\n",
            "1/1 [==============================] - 0s 40ms/step - loss: 0.6806 - val_loss: 0.5070\n",
            "Epoch 18/50\n",
            "1/1 [==============================] - 0s 44ms/step - loss: 0.7328 - val_loss: 0.4961\n",
            "Epoch 19/50\n",
            "1/1 [==============================] - 0s 71ms/step - loss: 0.5653 - val_loss: 0.4889\n",
            "Epoch 20/50\n",
            "1/1 [==============================] - 0s 41ms/step - loss: 0.4813 - val_loss: 0.4831\n",
            "Epoch 21/50\n",
            "1/1 [==============================] - 0s 44ms/step - loss: 0.5590 - val_loss: 0.4792\n",
            "Epoch 22/50\n",
            "1/1 [==============================] - 0s 43ms/step - loss: 0.5462 - val_loss: 0.4755\n",
            "Epoch 23/50\n",
            "1/1 [==============================] - 0s 39ms/step - loss: 0.3382 - val_loss: 0.4701\n",
            "Epoch 24/50\n",
            "1/1 [==============================] - 0s 42ms/step - loss: 0.5649 - val_loss: 0.4673\n",
            "Epoch 25/50\n",
            "1/1 [==============================] - 0s 39ms/step - loss: 0.7212 - val_loss: 0.4638\n",
            "Epoch 26/50\n",
            "1/1 [==============================] - 0s 67ms/step - loss: 0.3222 - val_loss: 0.4627\n",
            "Epoch 27/50\n",
            "1/1 [==============================] - 0s 65ms/step - loss: 0.5423 - val_loss: 0.4643\n",
            "Epoch 28/50\n",
            "1/1 [==============================] - 0s 53ms/step - loss: 0.2059 - val_loss: 0.4644\n",
            "Epoch 29/50\n",
            "1/1 [==============================] - 0s 51ms/step - loss: 0.3203 - val_loss: 0.4642\n",
            "Epoch 30/50\n",
            "1/1 [==============================] - 0s 63ms/step - loss: 0.1444 - val_loss: 0.4660\n",
            "Epoch 31/50\n",
            "1/1 [==============================] - 0s 56ms/step - loss: 0.1778 - val_loss: 0.4660\n",
            "Epoch 32/50\n",
            "1/1 [==============================] - 0s 50ms/step - loss: 0.4750 - val_loss: 0.4695\n",
            "Epoch 33/50\n",
            "1/1 [==============================] - 0s 53ms/step - loss: 0.1316 - val_loss: 0.4713\n",
            "Epoch 34/50\n",
            "1/1 [==============================] - 0s 50ms/step - loss: 0.1601 - val_loss: 0.4738\n",
            "Epoch 35/50\n",
            "1/1 [==============================] - 0s 41ms/step - loss: 0.1470 - val_loss: 0.4770\n",
            "Epoch 36/50\n",
            "1/1 [==============================] - 0s 38ms/step - loss: 0.1298 - val_loss: 0.4745\n",
            "Epoch 37/50\n",
            "1/1 [==============================] - 0s 38ms/step - loss: 0.1535 - val_loss: 0.4695\n",
            "Epoch 38/50\n",
            "1/1 [==============================] - 0s 40ms/step - loss: 0.1218 - val_loss: 0.4634\n",
            "Epoch 39/50\n",
            "1/1 [==============================] - 0s 36ms/step - loss: 0.0775 - val_loss: 0.4636\n",
            "Epoch 40/50\n",
            "1/1 [==============================] - 0s 36ms/step - loss: 0.1076 - val_loss: 0.4660\n",
            "Epoch 41/50\n",
            "1/1 [==============================] - 0s 37ms/step - loss: 0.5189 - val_loss: 0.4644\n",
            "Epoch 42/50\n",
            "1/1 [==============================] - 0s 39ms/step - loss: 0.0647 - val_loss: 0.4607\n",
            "Epoch 43/50\n",
            "1/1 [==============================] - 0s 46ms/step - loss: 0.1272 - val_loss: 0.4571\n",
            "Epoch 44/50\n",
            "1/1 [==============================] - 0s 39ms/step - loss: 0.0312 - val_loss: 0.4537\n",
            "Epoch 45/50\n",
            "1/1 [==============================] - 0s 37ms/step - loss: 0.0859 - val_loss: 0.4526\n",
            "Epoch 46/50\n",
            "1/1 [==============================] - 0s 44ms/step - loss: 0.0762 - val_loss: 0.4509\n",
            "Epoch 47/50\n",
            "1/1 [==============================] - 0s 48ms/step - loss: 0.0594 - val_loss: 0.4485\n",
            "Epoch 48/50\n",
            "1/1 [==============================] - 0s 57ms/step - loss: 0.0395 - val_loss: 0.4462\n",
            "Epoch 49/50\n",
            "1/1 [==============================] - 0s 45ms/step - loss: 0.1341 - val_loss: 0.4470\n",
            "Epoch 50/50\n",
            "1/1 [==============================] - 0s 47ms/step - loss: 0.1531 - val_loss: 0.4495\n",
            "1/1 [==============================] - 0s 63ms/step\n",
            "Neural Network Test Set RMSE: 2.486422904173488\n",
            "Model saved successfully as model_nn.h5\n"
          ]
        }
      ]
    },
    {
      "cell_type": "markdown",
      "source": [
        "## ARIMA"
      ],
      "metadata": {
        "id": "Kr8MRbupLIfK"
      }
    },
    {
      "cell_type": "code",
      "source": [
        "!pip install pmdarima"
      ],
      "metadata": {
        "colab": {
          "base_uri": "https://localhost:8080/"
        },
        "id": "DVVIxFRMF5MI",
        "outputId": "9f15de07-4ac9-4916-851f-41c1e9e90d3d"
      },
      "execution_count": 101,
      "outputs": [
        {
          "output_type": "stream",
          "name": "stdout",
          "text": [
            "Requirement already satisfied: pmdarima in /usr/local/lib/python3.10/dist-packages (2.0.4)\n",
            "Requirement already satisfied: joblib>=0.11 in /usr/local/lib/python3.10/dist-packages (from pmdarima) (1.4.2)\n",
            "Requirement already satisfied: Cython!=0.29.18,!=0.29.31,>=0.29 in /usr/local/lib/python3.10/dist-packages (from pmdarima) (3.0.10)\n",
            "Requirement already satisfied: numpy>=1.21.2 in /usr/local/lib/python3.10/dist-packages (from pmdarima) (1.25.2)\n",
            "Requirement already satisfied: pandas>=0.19 in /usr/local/lib/python3.10/dist-packages (from pmdarima) (2.0.3)\n",
            "Requirement already satisfied: scikit-learn>=0.22 in /usr/local/lib/python3.10/dist-packages (from pmdarima) (1.2.2)\n",
            "Requirement already satisfied: scipy>=1.3.2 in /usr/local/lib/python3.10/dist-packages (from pmdarima) (1.11.4)\n",
            "Requirement already satisfied: statsmodels>=0.13.2 in /usr/local/lib/python3.10/dist-packages (from pmdarima) (0.14.2)\n",
            "Requirement already satisfied: urllib3 in /usr/local/lib/python3.10/dist-packages (from pmdarima) (2.0.7)\n",
            "Requirement already satisfied: setuptools!=50.0.0,>=38.6.0 in /usr/local/lib/python3.10/dist-packages (from pmdarima) (67.7.2)\n",
            "Requirement already satisfied: packaging>=17.1 in /usr/local/lib/python3.10/dist-packages (from pmdarima) (24.1)\n",
            "Requirement already satisfied: python-dateutil>=2.8.2 in /usr/local/lib/python3.10/dist-packages (from pandas>=0.19->pmdarima) (2.8.2)\n",
            "Requirement already satisfied: pytz>=2020.1 in /usr/local/lib/python3.10/dist-packages (from pandas>=0.19->pmdarima) (2023.4)\n",
            "Requirement already satisfied: tzdata>=2022.1 in /usr/local/lib/python3.10/dist-packages (from pandas>=0.19->pmdarima) (2024.1)\n",
            "Requirement already satisfied: threadpoolctl>=2.0.0 in /usr/local/lib/python3.10/dist-packages (from scikit-learn>=0.22->pmdarima) (3.5.0)\n",
            "Requirement already satisfied: patsy>=0.5.6 in /usr/local/lib/python3.10/dist-packages (from statsmodels>=0.13.2->pmdarima) (0.5.6)\n",
            "Requirement already satisfied: six in /usr/local/lib/python3.10/dist-packages (from patsy>=0.5.6->statsmodels>=0.13.2->pmdarima) (1.16.0)\n"
          ]
        }
      ]
    },
    {
      "cell_type": "code",
      "source": [
        "import pmdarima as pm\n",
        "\n",
        "autoarima_model = pm.auto_arima(compiled_data['quantity'], seasonal=True, m=7)\n",
        "print(autoarima_model.summary())"
      ],
      "metadata": {
        "colab": {
          "base_uri": "https://localhost:8080/"
        },
        "id": "W-BJtVELE72m",
        "outputId": "95803bf3-8965-4399-d13c-d89d40d0768f"
      },
      "execution_count": 102,
      "outputs": [
        {
          "output_type": "stream",
          "name": "stdout",
          "text": [
            "                               SARIMAX Results                                \n",
            "==============================================================================\n",
            "Dep. Variable:                      y   No. Observations:                   29\n",
            "Model:               SARIMAX(1, 0, 0)   Log Likelihood                -170.824\n",
            "Date:                Fri, 21 Jun 2024   AIC                            347.648\n",
            "Time:                        09:00:10   BIC                            351.750\n",
            "Sample:                             0   HQIC                           348.933\n",
            "                                 - 29                                         \n",
            "Covariance Type:                  opg                                         \n",
            "==============================================================================\n",
            "                 coef    std err          z      P>|z|      [0.025      0.975]\n",
            "------------------------------------------------------------------------------\n",
            "intercept    467.0721    136.595      3.419      0.001     199.351     734.793\n",
            "ar.L1          0.3663      0.179      2.049      0.040       0.016       0.717\n",
            "sigma2      7616.1623   1799.160      4.233      0.000    4089.874    1.11e+04\n",
            "===================================================================================\n",
            "Ljung-Box (L1) (Q):                   0.00   Jarque-Bera (JB):                 0.28\n",
            "Prob(Q):                              0.95   Prob(JB):                         0.87\n",
            "Heteroskedasticity (H):               4.33   Skew:                            -0.00\n",
            "Prob(H) (two-sided):                  0.03   Kurtosis:                         3.48\n",
            "===================================================================================\n",
            "\n",
            "Warnings:\n",
            "[1] Covariance matrix calculated using the outer product of gradients (complex-step).\n"
          ]
        }
      ]
    },
    {
      "cell_type": "code",
      "source": [
        "# The P-Value is 0.040 which is smaller value than the significance level 0.05\n",
        "# It indicates that the model is significant statistically\n",
        "# The coefficient for the AR(1) term (ar.L1) is 0.3663, indicating a positive autocorrelation at lag 1\n",
        "# The residuals exhibit no significant autocorrelation at lag 1 (Ljung-Box (L1) (Q) p-value = 0.95)\n",
        "# The residuals are normally distributed (Jarque-Bera (JB) p-value = 0.87), suggesting the model fits the data well in terms of distribution.\n",
        "# Overall, this model provides a good fit to the data based on the statistical tests and diagnostics provided. Adjustments or further analysis may be necessary based on the specific requirements and characteristics of the time series data."
      ],
      "metadata": {
        "id": "Bsxoi6AkJ_89"
      },
      "execution_count": 103,
      "outputs": []
    },
    {
      "cell_type": "code",
      "source": [
        "# Forecasting\n",
        "n_periods = 7\n",
        "forecast, conf_int = autoarima_model.predict(n_periods=n_periods, return_conf_int=True)\n",
        "\n",
        "print(\"Forecasted values:\")\n",
        "print(forecast)\n",
        "\n",
        "print(\"\\nConfidence intervals:\")\n",
        "print(conf_int)"
      ],
      "metadata": {
        "colab": {
          "base_uri": "https://localhost:8080/"
        },
        "id": "psxYSXu6GbyK",
        "outputId": "e0a062c1-a7b6-4236-f495-d508a4e185b3"
      },
      "execution_count": 49,
      "outputs": [
        {
          "output_type": "stream",
          "name": "stdout",
          "text": [
            "Forecasted values:\n",
            "29    661.197716\n",
            "30    709.252135\n",
            "31    726.853259\n",
            "32    733.300107\n",
            "33    735.661425\n",
            "34    736.526316\n",
            "35    736.843104\n",
            "dtype: float64\n",
            "\n",
            "Confidence intervals:\n",
            "[[490.15043085 832.2450017 ]\n",
            " [527.09221787 891.41205266]\n",
            " [543.25366453 910.45285265]\n",
            " [549.50822759 917.0919859 ]\n",
            " [551.84376455 919.47908514]\n",
            " [552.70519745 920.34743493]\n",
            " [553.02152139 920.66468682]]\n"
          ]
        }
      ]
    },
    {
      "cell_type": "code",
      "source": [
        "# Convert to DataFrame\n",
        "compiled_data['date'] = pd.to_datetime(compiled_data['date'])\n",
        "\n",
        "# Fit AutoARIMA\n",
        "autoarima_model = pm.auto_arima(compiled_data['quantity'], seasonal=True, m=7)\n",
        "\n",
        "# Forecasting\n",
        "n_periods = 7\n",
        "forecast, conf_int = autoarima_model.predict(n_periods=n_periods, return_conf_int=True)\n",
        "\n",
        "# Generate forecast periods starting from the last date in 'compiled_data'\n",
        "forecast_start_date = compiled_data['date'].max()\n",
        "forecast_periods = pd.date_range(start=forecast_start_date, periods=n_periods + 1, freq='D')[1:]\n",
        "\n",
        "# Example of actual data (replace with your actual values)\n",
        "actual_values = compiled_data['quantity'].values[-n_periods:]\n",
        "\n",
        "# Plotting\n",
        "plt.figure(figsize=(10, 6))\n",
        "plt.plot(compiled_data['date'], compiled_data['quantity'], marker='o', color='green', linestyle='-', label='Actual Values')\n",
        "plt.plot(forecast_periods, forecast, marker='o', color='blue', linestyle='--', label='Forecasted Values')\n",
        "plt.fill_between(forecast_periods, conf_int[:, 0], conf_int[:, 1], color='lightblue', alpha=0.3, label='Confidence Intervals')\n",
        "plt.title('Actual vs Forecasted Values with Confidence Intervals')\n",
        "plt.xlabel('Date')\n",
        "plt.ylabel('Quantity')\n",
        "plt.legend()\n",
        "plt.grid(True)\n",
        "\n",
        "# Adjust x-axis date labels to be slanted\n",
        "plt.xticks(rotation=45, ha='right')\n",
        "\n",
        "plt.tight_layout()\n",
        "plt.show()"
      ],
      "metadata": {
        "colab": {
          "base_uri": "https://localhost:8080/",
          "height": 607
        },
        "id": "hhPmePLAO5pl",
        "outputId": "02a86929-5041-4376-ae02-59624342776d"
      },
      "execution_count": 58,
      "outputs": [
        {
          "output_type": "display_data",
          "data": {
            "text/plain": [
              "<Figure size 1000x600 with 1 Axes>"
            ],
            "image/png": "[encoded data removed]"
          },
          "metadata": {}
        }
      ]
    },
    {
      "cell_type": "code",
      "source": [
        "# Evaluating the model\n",
        "# Define function to calculate MAPE\n",
        "def mean_absolute_percentage_error(y_true, y_pred):\n",
        "    return np.mean(np.abs((y_true - y_pred) / y_true)) * 100\n",
        "\n",
        "actual_values = compiled_data['quantity'].values[-n_periods:]\n",
        "\n",
        "# Calculate MAPE\n",
        "mape = mean_absolute_percentage_error(actual_values, forecast)\n",
        "print(f\"MAPE: {mape:.2f}%\")\n",
        "\n",
        "# Calculate MSE\n",
        "mse = mean_squared_error(actual_values, forecast)\n",
        "print(f\"MSE: {mse:.2f}\")"
      ],
      "metadata": {
        "colab": {
          "base_uri": "https://localhost:8080/"
        },
        "id": "btrHSbjGGfSr",
        "outputId": "f6e96a22-c0fc-4534-e205-75a8c450a8a0"
      },
      "execution_count": 50,
      "outputs": [
        {
          "output_type": "stream",
          "name": "stdout",
          "text": [
            "MAPE: 16.66%\n",
            "MSE: 13589.54\n"
          ]
        }
      ]
    },
    {
      "cell_type": "code",
      "source": [
        "## The MAPE Value Indicates that, on average, the model's predictions are within approximately 16.66% of the actual values. For forecasting purposes, a MAPE of this magnitude suggests the model's predictions are reasonably accurate but could potentially be further improved."
      ],
      "metadata": {
        "id": "Ego53Px5Gpse"
      },
      "execution_count": 59,
      "outputs": []
    }
  ]
}